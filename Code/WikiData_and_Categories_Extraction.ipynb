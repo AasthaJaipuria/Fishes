{
 "cells": [
  {
   "cell_type": "code",
   "execution_count": null,
   "id": "5wH8pPRuYMzB",
   "metadata": {
    "colab": {
     "base_uri": "https://localhost:8080/"
    },
    "id": "5wH8pPRuYMzB",
    "outputId": "ab0be067-1fef-45cd-e4fc-579e47c2d5bf"
   },
   "outputs": [
    {
     "name": "stdout",
     "output_type": "stream",
     "text": [
      "Looking in indexes: https://pypi.org/simple, https://us-python.pkg.dev/colab-wheels/public/simple/\n",
      "Collecting autoscraper\n",
      "  Downloading autoscraper-1.1.14-py3-none-any.whl (10 kB)\n",
      "Requirement already satisfied: lxml in /usr/local/lib/python3.7/dist-packages (from autoscraper) (4.2.6)\n",
      "Requirement already satisfied: requests in /usr/local/lib/python3.7/dist-packages (from autoscraper) (2.23.0)\n",
      "Requirement already satisfied: bs4 in /usr/local/lib/python3.7/dist-packages (from autoscraper) (0.0.1)\n",
      "Requirement already satisfied: beautifulsoup4 in /usr/local/lib/python3.7/dist-packages (from bs4->autoscraper) (4.6.3)\n",
      "Requirement already satisfied: certifi>=2017.4.17 in /usr/local/lib/python3.7/dist-packages (from requests->autoscraper) (2022.6.15)\n",
      "Requirement already satisfied: urllib3!=1.25.0,!=1.25.1,<1.26,>=1.21.1 in /usr/local/lib/python3.7/dist-packages (from requests->autoscraper) (1.24.3)\n",
      "Requirement already satisfied: idna<3,>=2.5 in /usr/local/lib/python3.7/dist-packages (from requests->autoscraper) (2.10)\n",
      "Requirement already satisfied: chardet<4,>=3.0.2 in /usr/local/lib/python3.7/dist-packages (from requests->autoscraper) (3.0.4)\n",
      "Installing collected packages: autoscraper\n",
      "Successfully installed autoscraper-1.1.14\n"
     ]
    }
   ],
   "source": [
    "!pip install autoscraper"
   ]
  },
  {
   "cell_type": "code",
   "execution_count": null,
   "id": "98dfb783",
   "metadata": {
    "id": "98dfb783"
   },
   "outputs": [],
   "source": [
    "import pandas as pd\n",
    "import numpy as np\n",
    "from autoscraper import AutoScraper"
   ]
  },
  {
   "cell_type": "code",
   "execution_count": null,
   "id": "ff807113",
   "metadata": {
    "id": "ff807113"
   },
   "outputs": [],
   "source": [
    "data = pd.read_csv(\"Fish_names.csv\")"
   ]
  },
  {
   "cell_type": "code",
   "execution_count": 67,
   "id": "Abk-mA7eK2Ea",
   "metadata": {
    "id": "Abk-mA7eK2Ea"
   },
   "outputs": [],
   "source": [
    "scraper = AutoScraper()\n",
    "scraper.load('scrapper2')"
   ]
  },
  {
   "cell_type": "code",
   "execution_count": null,
   "id": "bbbecf51",
   "metadata": {
    "colab": {
     "base_uri": "https://localhost:8080/",
     "height": 1000
    },
    "id": "bbbecf51",
    "outputId": "231c7da4-2645-4e89-c239-2959b187e4d1"
   },
   "outputs": [],
   "source": [
    "fishData = []\n",
    "for idx in data.index[17000:]:\n",
    "    print(idx)\n",
    "    fish = {}\n",
    "    fish['ID'] = data['ID'][idx]\n",
    "    fish['Species Name'] = species = data['Species Name'][idx]\n",
    "    url = 'https://en.wikipedia.org/wiki/{}'.format(species.replace(' ','_'))\n",
    "    resultDict = scraper.get_result_similar(url,group_by_alias=True)\n",
    "    fish.update(resultDict)\n",
    "    fishData.append(fish)"
   ]
  },
  {
   "cell_type": "code",
   "execution_count": 69,
   "id": "1e741582",
   "metadata": {
    "id": "1e741582"
   },
   "outputs": [],
   "source": [
    "fishDF = pd.DataFrame.from_dict(fishData)"
   ]
  },
  {
   "cell_type": "code",
   "execution_count": null,
   "id": "85e24cd2",
   "metadata": {
    "id": "85e24cd2"
   },
   "outputs": [],
   "source": [
    "fishDF.to_csv('fishWiki.csv', index = False)\n",
    "fishDF.to_pickle('fishWiki.pkl')"
   ]
  }
 ],
 "metadata": {
  "colab": {
   "collapsed_sections": [],
   "name": "WikiData and Categories Extraction Script.ipynb",
   "provenance": []
  },
  "kernelspec": {
   "display_name": "Python 3 (ipykernel)",
   "language": "python",
   "name": "python3"
  },
  "language_info": {
   "codemirror_mode": {
    "name": "ipython",
    "version": 3
   },
   "file_extension": ".py",
   "mimetype": "text/x-python",
   "name": "python",
   "nbconvert_exporter": "python",
   "pygments_lexer": "ipython3",
   "version": "3.9.7"
  }
 },
 "nbformat": 4,
 "nbformat_minor": 5
}

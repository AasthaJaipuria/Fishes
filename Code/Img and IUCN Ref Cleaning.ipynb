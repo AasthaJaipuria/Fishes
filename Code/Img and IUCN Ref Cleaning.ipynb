{
 "cells": [
  {
   "cell_type": "code",
   "execution_count": 1,
   "id": "b01a2b38",
   "metadata": {},
   "outputs": [],
   "source": [
    "import pandas as pd\n",
    "import numpy as np"
   ]
  },
  {
   "cell_type": "code",
   "execution_count": 2,
   "id": "f14bdff0",
   "metadata": {},
   "outputs": [],
   "source": [
    "data = pd.read_pickle('merged_Img.pkl')"
   ]
  },
  {
   "cell_type": "code",
   "execution_count": 3,
   "id": "c70ef58a",
   "metadata": {},
   "outputs": [],
   "source": [
    "#Keeping only first\n",
    "data['Img'] = data['Img'].apply(lambda x : x[0] if len(x)>0 else np.nan) "
   ]
  },
  {
   "cell_type": "code",
   "execution_count": 13,
   "id": "070485fb",
   "metadata": {},
   "outputs": [],
   "source": [
    "data['Img'] = data['Img'].apply(lambda x : x.split('File:')[-1] if str(x)!='nan' else np.nan"
   ]
  },
  {
   "cell_type": "code",
   "execution_count": 16,
   "id": "f063eee5",
   "metadata": {},
   "outputs": [],
   "source": [
    "def extract_ref(refList):\n",
    "    for ref in refList:\n",
    "        if 'IUCN' in ref:\n",
    "            if ref.startswith('.mw-parser-output '):\n",
    "                return ref[ref.index('{font-weight:inherit}')+21:]\n",
    "            else:\n",
    "                return ref\n",
    "    return np.nan"
   ]
  },
  {
   "cell_type": "code",
   "execution_count": 17,
   "id": "280d04da",
   "metadata": {},
   "outputs": [],
   "source": [
    "data['IUCN ref'] = data['IUCN ref'].apply(extract_ref) "
   ]
  },
  {
   "cell_type": "code",
   "execution_count": 18,
   "id": "4843b0cc",
   "metadata": {},
   "outputs": [],
   "source": [
    "def extract_link(refList):\n",
    "    for ref in refList:\n",
    "        if 'iucn' in ref.lower():\n",
    "            return ref\n",
    "    return np.nan"
   ]
  },
  {
   "cell_type": "code",
   "execution_count": 19,
   "id": "077059b6",
   "metadata": {},
   "outputs": [],
   "source": [
    "data['IUCN link'] = data['IUCN link'].apply(extract_link) "
   ]
  },
  {
   "cell_type": "code",
   "execution_count": 20,
   "id": "ec848818",
   "metadata": {},
   "outputs": [],
   "source": [
    "refs = pd.read_csv('reference.csv')\n",
    "refs.drop(columns=['Unnamed: 0','Unnamed: 11','Unnamed: 12','Env Section','refCount','refList'],inplace=True)"
   ]
  },
  {
   "cell_type": "code",
   "execution_count": 22,
   "id": "2e983865",
   "metadata": {},
   "outputs": [],
   "source": [
    "data = pd.merge(data,refs,how='left',left_on=['ID','Species Name'],right_on=['ID','Species Name'])"
   ]
  },
  {
   "cell_type": "code",
   "execution_count": 23,
   "id": "e5e7a376",
   "metadata": {},
   "outputs": [],
   "source": [
    "data.to_csv('final_img_ref.csv',index=False)"
   ]
  },
  {
   "cell_type": "code",
   "execution_count": 24,
   "id": "39b52824",
   "metadata": {},
   "outputs": [],
   "source": [
    "data.to_pickle('final_img_ref.pkl')"
   ]
  }
 ],
 "metadata": {
  "kernelspec": {
   "display_name": "Python 3 (ipykernel)",
   "language": "python",
   "name": "python3"
  },
  "language_info": {
   "codemirror_mode": {
    "name": "ipython",
    "version": 3
   },
   "file_extension": ".py",
   "mimetype": "text/x-python",
   "name": "python",
   "nbconvert_exporter": "python",
   "pygments_lexer": "ipython3",
   "version": "3.9.7"
  }
 },
 "nbformat": 4,
 "nbformat_minor": 5
}

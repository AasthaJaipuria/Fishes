{
 "cells": [
  {
   "cell_type": "code",
   "execution_count": 13,
   "id": "98dfb783",
   "metadata": {},
   "outputs": [],
   "source": [
    "import pandas as pd\n",
    "import numpy as np\n",
    "from autoscraper import AutoScraper"
   ]
  },
  {
   "cell_type": "code",
   "execution_count": 14,
   "id": "ff807113",
   "metadata": {},
   "outputs": [],
   "source": [
    "data = pd.read_csv(\"Fish_names.csv\")"
   ]
  },
  {
   "cell_type": "code",
   "execution_count": 15,
   "id": "6a68a96d",
   "metadata": {},
   "outputs": [
    {
     "name": "stderr",
     "output_type": "stream",
     "text": [
      "C:\\Users\\SANYAM\\anaconda3\\lib\\site-packages\\IPython\\core\\interactiveshell.py:3444: DtypeWarning: Columns (4,22) have mixed types.Specify dtype option on import or set low_memory=False.\n",
      "  exec(code_obj, self.user_global_ns, self.user_ns)\n"
     ]
    }
   ],
   "source": [
    "data = pd.read_csv('Final.csv')"
   ]
  },
  {
   "cell_type": "code",
   "execution_count": 3,
   "id": "3866d52c",
   "metadata": {},
   "outputs": [],
   "source": [
    "scraper = AutoScraper()"
   ]
  },
  {
   "cell_type": "code",
   "execution_count": 4,
   "id": "00d93331",
   "metadata": {},
   "outputs": [],
   "source": [
    "url = 'https://en.wikipedia.org/wiki/Common_bream'\n",
    "want = ['Wikidata: Q144534']\n",
    "scraper = AutoScraper()\n",
    "result = scraper.build(url,want)"
   ]
  },
  {
   "cell_type": "code",
   "execution_count": null,
   "id": "11258680",
   "metadata": {},
   "outputs": [],
   "source": [
    "scraper.load('scrapper')"
   ]
  },
  {
   "cell_type": "code",
   "execution_count": null,
   "id": "bbbecf51",
   "metadata": {},
   "outputs": [],
   "source": [
    "fishImage = []\n",
    "for idx in data.index[:]:\n",
    "    print(idx)\n",
    "    fish = {}\n",
    "    fish['ID'] = data['ID'][idx]\n",
    "    fish['Species Name'] = species = data['Species Name'][idx]\n",
    "    resultDict = scraper.get_result_similar('https://en.wikipedia.org/wiki/{}'.format(species),group_by_alias=True)\n",
    "    fish.update(resultDict)\n",
    "    fishImage.append(fish)"
   ]
  },
  {
   "cell_type": "code",
   "execution_count": null,
   "id": "1e741582",
   "metadata": {},
   "outputs": [],
   "source": [
    "fishImgDF = pd.DataFrame.from_dict(fishImage)"
   ]
  },
  {
   "cell_type": "code",
   "execution_count": null,
   "id": "85e24cd2",
   "metadata": {},
   "outputs": [],
   "source": [
    "fishImgDF.to_csv('fishImg'.csv, index = False)\n",
    "fishImgDF.to_pickle('fishImg.pkl')"
   ]
  }
 ],
 "metadata": {
  "kernelspec": {
   "display_name": "Python 3 (ipykernel)",
   "language": "python",
   "name": "python3"
  },
  "language_info": {
   "codemirror_mode": {
    "name": "ipython",
    "version": 3
   },
   "file_extension": ".py",
   "mimetype": "text/x-python",
   "name": "python",
   "nbconvert_exporter": "python",
   "pygments_lexer": "ipython3",
   "version": "3.9.7"
  }
 },
 "nbformat": 4,
 "nbformat_minor": 5
}

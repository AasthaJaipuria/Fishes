{
 "cells": [
  {
   "cell_type": "code",
   "execution_count": 1,
   "id": "4ddef9be",
   "metadata": {},
   "outputs": [],
   "source": [
    "import pandas as pd\n",
    "import numpy as np"
   ]
  },
  {
   "cell_type": "code",
   "execution_count": 2,
   "id": "7f58b42e",
   "metadata": {},
   "outputs": [],
   "source": [
    "data = pd.read_pickle('merged_data.pkl')"
   ]
  },
  {
   "cell_type": "code",
   "execution_count": 3,
   "id": "83f9e5e0",
   "metadata": {
    "scrolled": true
   },
   "outputs": [
    {
     "data": {
      "text/html": [
       "<div>\n",
       "<style scoped>\n",
       "    .dataframe tbody tr th:only-of-type {\n",
       "        vertical-align: middle;\n",
       "    }\n",
       "\n",
       "    .dataframe tbody tr th {\n",
       "        vertical-align: top;\n",
       "    }\n",
       "\n",
       "    .dataframe thead th {\n",
       "        text-align: right;\n",
       "    }\n",
       "</style>\n",
       "<table border=\"1\" class=\"dataframe\">\n",
       "  <thead>\n",
       "    <tr style=\"text-align: right;\">\n",
       "      <th></th>\n",
       "      <th>ID</th>\n",
       "      <th>Species Name</th>\n",
       "      <th>Common Name</th>\n",
       "      <th>Authors</th>\n",
       "      <th>Year</th>\n",
       "      <th>Genus</th>\n",
       "      <th>Subfamily</th>\n",
       "      <th>Family</th>\n",
       "      <th>Order</th>\n",
       "      <th>Class</th>\n",
       "      <th>...</th>\n",
       "      <th>Fertilization</th>\n",
       "      <th>fisheries</th>\n",
       "      <th>aquarium</th>\n",
       "      <th>gamefish</th>\n",
       "      <th>aquaculture</th>\n",
       "      <th>bait</th>\n",
       "      <th>Image</th>\n",
       "      <th>Img Credits</th>\n",
       "      <th>Reference</th>\n",
       "      <th>Env Section</th>\n",
       "    </tr>\n",
       "  </thead>\n",
       "  <tbody>\n",
       "    <tr>\n",
       "      <th>0</th>\n",
       "      <td>64588</td>\n",
       "      <td>Aapticheilichthys websteri</td>\n",
       "      <td>NaN</td>\n",
       "      <td>Huber</td>\n",
       "      <td>2007</td>\n",
       "      <td>Aapticheilichthys</td>\n",
       "      <td>Procatopodinae</td>\n",
       "      <td>Procatopodidae</td>\n",
       "      <td>Cyprinodontiformes</td>\n",
       "      <td>Actinopteri</td>\n",
       "      <td>...</td>\n",
       "      <td>NaN</td>\n",
       "      <td>NaN</td>\n",
       "      <td>NaN</td>\n",
       "      <td>NaN</td>\n",
       "      <td>NaN</td>\n",
       "      <td>NaN</td>\n",
       "      <td>https://www.fishbase.de//images/thumbnails/jpg...</td>\n",
       "      <td>Musschoot, T.</td>\n",
       "      <td>Huber, J.H., 2007. Procatopus websteri: a new ...</td>\n",
       "      <td>Freshwater;  benthopelagic. Tropical</td>\n",
       "    </tr>\n",
       "    <tr>\n",
       "      <th>1</th>\n",
       "      <td>16239</td>\n",
       "      <td>Aaptosyax grypus</td>\n",
       "      <td>Giant salmon carp</td>\n",
       "      <td>Rainboth</td>\n",
       "      <td>1991</td>\n",
       "      <td>Aaptosyax</td>\n",
       "      <td>Cyprininae</td>\n",
       "      <td>Cyprinidae</td>\n",
       "      <td>Cypriniformes</td>\n",
       "      <td>Actinopteri</td>\n",
       "      <td>...</td>\n",
       "      <td>external</td>\n",
       "      <td>NaN</td>\n",
       "      <td>NaN</td>\n",
       "      <td>NaN</td>\n",
       "      <td>NaN</td>\n",
       "      <td>NaN</td>\n",
       "      <td>https://www.fishbase.de//images/thumbnails/gif...</td>\n",
       "      <td>NaN</td>\n",
       "      <td>Roberts, T.R. and T.J. Warren, 1994. Observati...</td>\n",
       "      <td>Freshwater;  pelagic; potamodromous (Ref. 5124...</td>\n",
       "    </tr>\n",
       "    <tr>\n",
       "      <th>2</th>\n",
       "      <td>2347</td>\n",
       "      <td>Abactochromis labrosus</td>\n",
       "      <td>NaN</td>\n",
       "      <td>Trewavas</td>\n",
       "      <td>1935</td>\n",
       "      <td>Abactochromis</td>\n",
       "      <td>Pseudocrenilabrinae</td>\n",
       "      <td>Cichlidae</td>\n",
       "      <td>Cichliformes</td>\n",
       "      <td>Actinopteri</td>\n",
       "      <td>...</td>\n",
       "      <td>in mouth</td>\n",
       "      <td>NaN</td>\n",
       "      <td>commercial</td>\n",
       "      <td>NaN</td>\n",
       "      <td>NaN</td>\n",
       "      <td>NaN</td>\n",
       "      <td>https://www.fishbase.de//images/thumbnails/jpg...</td>\n",
       "      <td>Dubosc, J.</td>\n",
       "      <td>Oliver, M.K. and M.E. Arnegard, 2010. A new ge...</td>\n",
       "      <td>Freshwater;  demersal; pH range: 7.0 - 8.5; dH...</td>\n",
       "    </tr>\n",
       "    <tr>\n",
       "      <th>3</th>\n",
       "      <td>62612</td>\n",
       "      <td>Abalistes filamentosus</td>\n",
       "      <td>NaN</td>\n",
       "      <td>Matsuura, Yoshino</td>\n",
       "      <td>2004</td>\n",
       "      <td>Abalistes</td>\n",
       "      <td>NaN</td>\n",
       "      <td>Balistidae</td>\n",
       "      <td>Tetraodontiformes</td>\n",
       "      <td>Actinopteri</td>\n",
       "      <td>...</td>\n",
       "      <td>external</td>\n",
       "      <td>NaN</td>\n",
       "      <td>NaN</td>\n",
       "      <td>NaN</td>\n",
       "      <td>NaN</td>\n",
       "      <td>NaN</td>\n",
       "      <td>https://www.fishbase.de//images/thumbnails/jpg...</td>\n",
       "      <td>Justine, J.-L.</td>\n",
       "      <td>Matsuura, K. and T. Yoshino, 2004. A new trigg...</td>\n",
       "      <td>Marine;  pelagic-neritic; depth range 61 - 180...</td>\n",
       "    </tr>\n",
       "    <tr>\n",
       "      <th>4</th>\n",
       "      <td>9</td>\n",
       "      <td>Abalistes stellatus</td>\n",
       "      <td>Starry triggerfish</td>\n",
       "      <td>Anonymous</td>\n",
       "      <td>1798</td>\n",
       "      <td>Abalistes</td>\n",
       "      <td>NaN</td>\n",
       "      <td>Balistidae</td>\n",
       "      <td>Tetraodontiformes</td>\n",
       "      <td>Actinopteri</td>\n",
       "      <td>...</td>\n",
       "      <td>external</td>\n",
       "      <td>commercial</td>\n",
       "      <td>commercial</td>\n",
       "      <td>NaN</td>\n",
       "      <td>NaN</td>\n",
       "      <td>NaN</td>\n",
       "      <td>https://www.fishbase.de//images/thumbnails/jpg...</td>\n",
       "      <td>Randall, J.E.</td>\n",
       "      <td>Matsuura, K., 2001. Balistidae. Triggerfishes....</td>\n",
       "      <td>Marine;  demersal; amphidromous (Ref. 51243); ...</td>\n",
       "    </tr>\n",
       "    <tr>\n",
       "      <th>...</th>\n",
       "      <td>...</td>\n",
       "      <td>...</td>\n",
       "      <td>...</td>\n",
       "      <td>...</td>\n",
       "      <td>...</td>\n",
       "      <td>...</td>\n",
       "      <td>...</td>\n",
       "      <td>...</td>\n",
       "      <td>...</td>\n",
       "      <td>...</td>\n",
       "      <td>...</td>\n",
       "      <td>...</td>\n",
       "      <td>...</td>\n",
       "      <td>...</td>\n",
       "      <td>...</td>\n",
       "      <td>...</td>\n",
       "      <td>...</td>\n",
       "      <td>...</td>\n",
       "      <td>...</td>\n",
       "      <td>...</td>\n",
       "      <td>...</td>\n",
       "    </tr>\n",
       "    <tr>\n",
       "      <th>34772</th>\n",
       "      <td>63393</td>\n",
       "      <td>Zungaro jahu</td>\n",
       "      <td>NaN</td>\n",
       "      <td>Ihering</td>\n",
       "      <td>1898</td>\n",
       "      <td>Zungaro</td>\n",
       "      <td>NaN</td>\n",
       "      <td>Pimelodidae</td>\n",
       "      <td>Siluriformes</td>\n",
       "      <td>Actinopteri</td>\n",
       "      <td>...</td>\n",
       "      <td>NaN</td>\n",
       "      <td>NaN</td>\n",
       "      <td>NaN</td>\n",
       "      <td>NaN</td>\n",
       "      <td>NaN</td>\n",
       "      <td>NaN</td>\n",
       "      <td>https://www.fishbase.de//images/thumbnails/jpg...</td>\n",
       "      <td>Timm, C.D.</td>\n",
       "      <td>Lundberg, J.G. and M.W. Littmann, 2003. Pimelo...</td>\n",
       "      <td>Freshwater;  benthopelagic. Tropical</td>\n",
       "    </tr>\n",
       "    <tr>\n",
       "      <th>34773</th>\n",
       "      <td>47756</td>\n",
       "      <td>Zungaro zungaro</td>\n",
       "      <td>Gilded catfish</td>\n",
       "      <td>Humboldt</td>\n",
       "      <td>1821</td>\n",
       "      <td>Zungaro</td>\n",
       "      <td>NaN</td>\n",
       "      <td>Pimelodidae</td>\n",
       "      <td>Siluriformes</td>\n",
       "      <td>Actinopteri</td>\n",
       "      <td>...</td>\n",
       "      <td>NaN</td>\n",
       "      <td>NaN</td>\n",
       "      <td>NaN</td>\n",
       "      <td>NaN</td>\n",
       "      <td>NaN</td>\n",
       "      <td>NaN</td>\n",
       "      <td>https://www.fishbase.de//images/thumbnails/jpg...</td>\n",
       "      <td>Sabaj Pérez, M.H.</td>\n",
       "      <td>Silfvergrip, A.M.C., 1992. Zungaro, a senior s...</td>\n",
       "      <td>Freshwater;  demersal; pH range: 6.5 - 7.2; dH...</td>\n",
       "    </tr>\n",
       "    <tr>\n",
       "      <th>34774</th>\n",
       "      <td>63635</td>\n",
       "      <td>Zungaropsis multimaculatus</td>\n",
       "      <td>NaN</td>\n",
       "      <td>Steindachner</td>\n",
       "      <td>1908</td>\n",
       "      <td>Zungaropsis</td>\n",
       "      <td>NaN</td>\n",
       "      <td>Pimelodidae</td>\n",
       "      <td>Siluriformes</td>\n",
       "      <td>Actinopteri</td>\n",
       "      <td>...</td>\n",
       "      <td>NaN</td>\n",
       "      <td>NaN</td>\n",
       "      <td>NaN</td>\n",
       "      <td>NaN</td>\n",
       "      <td>NaN</td>\n",
       "      <td>NaN</td>\n",
       "      <td>https://www.fishbase.de//images/thumbnails/gif...</td>\n",
       "      <td>NaN</td>\n",
       "      <td>Ferraris, C.J. Jr., 2007. Checklist of catfish...</td>\n",
       "      <td>Freshwater;  demersal. Tropical</td>\n",
       "    </tr>\n",
       "    <tr>\n",
       "      <th>34775</th>\n",
       "      <td>11898</td>\n",
       "      <td>Semaprochilodus taeniurus</td>\n",
       "      <td>Silver prochilodus</td>\n",
       "      <td>Valenciennes</td>\n",
       "      <td>1821</td>\n",
       "      <td>Semaprochilodus</td>\n",
       "      <td>NaN</td>\n",
       "      <td>Prochilodontidae</td>\n",
       "      <td>Characiformes</td>\n",
       "      <td>Actinopteri</td>\n",
       "      <td>...</td>\n",
       "      <td>NaN</td>\n",
       "      <td>NaN</td>\n",
       "      <td>NaN</td>\n",
       "      <td>NaN</td>\n",
       "      <td>NaN</td>\n",
       "      <td>NaN</td>\n",
       "      <td>https://www.fishbase.de//images/thumbnails/jpg...</td>\n",
       "      <td>Hippocampus-Bildarchiv</td>\n",
       "      <td>Castro, R.M.C. and R.P. Vari, 2003. Prochilodo...</td>\n",
       "      <td>Freshwater;  benthopelagic; pH range: 5.5 - 7....</td>\n",
       "    </tr>\n",
       "    <tr>\n",
       "      <th>34776</th>\n",
       "      <td>26221</td>\n",
       "      <td>Scarus zufar</td>\n",
       "      <td>Dhofar parrotfish</td>\n",
       "      <td>Randall, Hoover</td>\n",
       "      <td>1995</td>\n",
       "      <td>Scarus</td>\n",
       "      <td>Scarinae</td>\n",
       "      <td>Scaridae</td>\n",
       "      <td>Eupercaria/misc</td>\n",
       "      <td>Actinopteri</td>\n",
       "      <td>...</td>\n",
       "      <td>external</td>\n",
       "      <td>NaN</td>\n",
       "      <td>NaN</td>\n",
       "      <td>NaN</td>\n",
       "      <td>NaN</td>\n",
       "      <td>NaN</td>\n",
       "      <td>https://www.fishbase.de//images/thumbnails/jpg...</td>\n",
       "      <td>Randall, J.E.</td>\n",
       "      <td>Randall, J.E., 1995. Coastal fishes of Oman. U...</td>\n",
       "      <td>Marine;  demersal; depth range 7 - 8 m (Ref. 5...</td>\n",
       "    </tr>\n",
       "  </tbody>\n",
       "</table>\n",
       "<p>34777 rows × 36 columns</p>\n",
       "</div>"
      ],
      "text/plain": [
       "          ID                Species Name         Common Name  \\\n",
       "0      64588  Aapticheilichthys websteri                 NaN   \n",
       "1      16239            Aaptosyax grypus   Giant salmon carp   \n",
       "2       2347      Abactochromis labrosus                 NaN   \n",
       "3      62612      Abalistes filamentosus                 NaN   \n",
       "4          9         Abalistes stellatus  Starry triggerfish   \n",
       "...      ...                         ...                 ...   \n",
       "34772  63393                Zungaro jahu                 NaN   \n",
       "34773  47756             Zungaro zungaro      Gilded catfish   \n",
       "34774  63635  Zungaropsis multimaculatus                 NaN   \n",
       "34775  11898   Semaprochilodus taeniurus  Silver prochilodus   \n",
       "34776  26221                Scarus zufar   Dhofar parrotfish   \n",
       "\n",
       "                 Authors  Year              Genus            Subfamily  \\\n",
       "0                  Huber  2007  Aapticheilichthys       Procatopodinae   \n",
       "1               Rainboth  1991          Aaptosyax           Cyprininae   \n",
       "2               Trewavas  1935      Abactochromis  Pseudocrenilabrinae   \n",
       "3      Matsuura, Yoshino  2004          Abalistes                  NaN   \n",
       "4              Anonymous  1798          Abalistes                  NaN   \n",
       "...                  ...   ...                ...                  ...   \n",
       "34772            Ihering  1898            Zungaro                  NaN   \n",
       "34773           Humboldt  1821            Zungaro                  NaN   \n",
       "34774       Steindachner  1908        Zungaropsis                  NaN   \n",
       "34775       Valenciennes  1821    Semaprochilodus                  NaN   \n",
       "34776    Randall, Hoover  1995             Scarus             Scarinae   \n",
       "\n",
       "                 Family               Order        Class  ... Fertilization  \\\n",
       "0        Procatopodidae  Cyprinodontiformes  Actinopteri  ...           NaN   \n",
       "1            Cyprinidae       Cypriniformes  Actinopteri  ...      external   \n",
       "2             Cichlidae        Cichliformes  Actinopteri  ...      in mouth   \n",
       "3            Balistidae   Tetraodontiformes  Actinopteri  ...      external   \n",
       "4            Balistidae   Tetraodontiformes  Actinopteri  ...      external   \n",
       "...                 ...                 ...          ...  ...           ...   \n",
       "34772       Pimelodidae        Siluriformes  Actinopteri  ...           NaN   \n",
       "34773       Pimelodidae        Siluriformes  Actinopteri  ...           NaN   \n",
       "34774       Pimelodidae        Siluriformes  Actinopteri  ...           NaN   \n",
       "34775  Prochilodontidae       Characiformes  Actinopteri  ...           NaN   \n",
       "34776          Scaridae     Eupercaria/misc  Actinopteri  ...      external   \n",
       "\n",
       "        fisheries    aquarium gamefish aquaculture bait  \\\n",
       "0             NaN         NaN      NaN         NaN  NaN   \n",
       "1             NaN         NaN      NaN         NaN  NaN   \n",
       "2             NaN  commercial      NaN         NaN  NaN   \n",
       "3             NaN         NaN      NaN         NaN  NaN   \n",
       "4      commercial  commercial      NaN         NaN  NaN   \n",
       "...           ...         ...      ...         ...  ...   \n",
       "34772         NaN         NaN      NaN         NaN  NaN   \n",
       "34773         NaN         NaN      NaN         NaN  NaN   \n",
       "34774         NaN         NaN      NaN         NaN  NaN   \n",
       "34775         NaN         NaN      NaN         NaN  NaN   \n",
       "34776         NaN         NaN      NaN         NaN  NaN   \n",
       "\n",
       "                                                   Image  \\\n",
       "0      https://www.fishbase.de//images/thumbnails/jpg...   \n",
       "1      https://www.fishbase.de//images/thumbnails/gif...   \n",
       "2      https://www.fishbase.de//images/thumbnails/jpg...   \n",
       "3      https://www.fishbase.de//images/thumbnails/jpg...   \n",
       "4      https://www.fishbase.de//images/thumbnails/jpg...   \n",
       "...                                                  ...   \n",
       "34772  https://www.fishbase.de//images/thumbnails/jpg...   \n",
       "34773  https://www.fishbase.de//images/thumbnails/jpg...   \n",
       "34774  https://www.fishbase.de//images/thumbnails/gif...   \n",
       "34775  https://www.fishbase.de//images/thumbnails/jpg...   \n",
       "34776  https://www.fishbase.de//images/thumbnails/jpg...   \n",
       "\n",
       "                  Img Credits  \\\n",
       "0               Musschoot, T.   \n",
       "1                         NaN   \n",
       "2                  Dubosc, J.   \n",
       "3              Justine, J.-L.   \n",
       "4               Randall, J.E.   \n",
       "...                       ...   \n",
       "34772              Timm, C.D.   \n",
       "34773       Sabaj Pérez, M.H.   \n",
       "34774                     NaN   \n",
       "34775  Hippocampus-Bildarchiv   \n",
       "34776           Randall, J.E.   \n",
       "\n",
       "                                               Reference  \\\n",
       "0      Huber, J.H., 2007. Procatopus websteri: a new ...   \n",
       "1      Roberts, T.R. and T.J. Warren, 1994. Observati...   \n",
       "2      Oliver, M.K. and M.E. Arnegard, 2010. A new ge...   \n",
       "3      Matsuura, K. and T. Yoshino, 2004. A new trigg...   \n",
       "4      Matsuura, K., 2001. Balistidae. Triggerfishes....   \n",
       "...                                                  ...   \n",
       "34772  Lundberg, J.G. and M.W. Littmann, 2003. Pimelo...   \n",
       "34773  Silfvergrip, A.M.C., 1992. Zungaro, a senior s...   \n",
       "34774  Ferraris, C.J. Jr., 2007. Checklist of catfish...   \n",
       "34775  Castro, R.M.C. and R.P. Vari, 2003. Prochilodo...   \n",
       "34776  Randall, J.E., 1995. Coastal fishes of Oman. U...   \n",
       "\n",
       "                                             Env Section  \n",
       "0                   Freshwater;  benthopelagic. Tropical  \n",
       "1      Freshwater;  pelagic; potamodromous (Ref. 5124...  \n",
       "2      Freshwater;  demersal; pH range: 7.0 - 8.5; dH...  \n",
       "3      Marine;  pelagic-neritic; depth range 61 - 180...  \n",
       "4      Marine;  demersal; amphidromous (Ref. 51243); ...  \n",
       "...                                                  ...  \n",
       "34772               Freshwater;  benthopelagic. Tropical  \n",
       "34773  Freshwater;  demersal; pH range: 6.5 - 7.2; dH...  \n",
       "34774                    Freshwater;  demersal. Tropical  \n",
       "34775  Freshwater;  benthopelagic; pH range: 5.5 - 7....  \n",
       "34776  Marine;  demersal; depth range 7 - 8 m (Ref. 5...  \n",
       "\n",
       "[34777 rows x 36 columns]"
      ]
     },
     "execution_count": 3,
     "metadata": {},
     "output_type": "execute_result"
    }
   ],
   "source": [
    "data.replace(\"\",np.nan,inplace=True)\n",
    "data"
   ]
  },
  {
   "cell_type": "code",
   "execution_count": 4,
   "id": "fba1d418",
   "metadata": {},
   "outputs": [],
   "source": [
    "data['Env Section'].fillna(\"\",inplace=True)"
   ]
  },
  {
   "cell_type": "code",
   "execution_count": 5,
   "id": "799a9cca",
   "metadata": {},
   "outputs": [
    {
     "name": "stdout",
     "output_type": "stream",
     "text": [
      "<class 'pandas.core.frame.DataFrame'>\n",
      "RangeIndex: 34777 entries, 0 to 34776\n",
      "Data columns (total 36 columns):\n",
      " #   Column                Non-Null Count  Dtype \n",
      "---  ------                --------------  ----- \n",
      " 0   ID                    34777 non-null  int64 \n",
      " 1   Species Name          34777 non-null  object\n",
      " 2   Common Name           16883 non-null  object\n",
      " 3   Authors               34777 non-null  object\n",
      " 4   Year                  34777 non-null  object\n",
      " 5   Genus                 34777 non-null  object\n",
      " 6   Subfamily             21136 non-null  object\n",
      " 7   Family                34776 non-null  object\n",
      " 8   Order                 34776 non-null  object\n",
      " 9   Class                 34776 non-null  object\n",
      " 10  Phylum                34777 non-null  object\n",
      " 11  Kingdom               34777 non-null  object\n",
      " 12  Environment           34775 non-null  object\n",
      " 13  Habitat               34775 non-null  object\n",
      " 14  Migration             22747 non-null  object\n",
      " 15  IUCN Status           34775 non-null  object\n",
      " 16  Threat Level          34543 non-null  object\n",
      " 17  Climate               30640 non-null  object\n",
      " 18  Area                  34775 non-null  object\n",
      " 19  Max Length            31524 non-null  object\n",
      " 20  Max Weight            2536 non-null   object\n",
      " 21  Max Age               1374 non-null   object\n",
      " 22  Depth Range           15392 non-null  object\n",
      " 23  pH                    2279 non-null   object\n",
      " 24  dH                    1801 non-null   object\n",
      " 25  Mode of Reproduction  11782 non-null  object\n",
      " 26  Fertilization         11523 non-null  object\n",
      " 27  fisheries             5019 non-null   object\n",
      " 28  aquarium              2105 non-null   object\n",
      " 29  gamefish              873 non-null    object\n",
      " 30  aquaculture           322 non-null    object\n",
      " 31  bait                  261 non-null    object\n",
      " 32  Image                 34777 non-null  object\n",
      " 33  Img Credits           20560 non-null  object\n",
      " 34  Reference             34773 non-null  object\n",
      " 35  Env Section           34777 non-null  object\n",
      "dtypes: int64(1), object(35)\n",
      "memory usage: 9.6+ MB\n"
     ]
    }
   ],
   "source": [
    "data.info()"
   ]
  },
  {
   "cell_type": "code",
   "execution_count": 6,
   "id": "168ea145",
   "metadata": {},
   "outputs": [
    {
     "data": {
      "text/html": [
       "<div>\n",
       "<style scoped>\n",
       "    .dataframe tbody tr th:only-of-type {\n",
       "        vertical-align: middle;\n",
       "    }\n",
       "\n",
       "    .dataframe tbody tr th {\n",
       "        vertical-align: top;\n",
       "    }\n",
       "\n",
       "    .dataframe thead th {\n",
       "        text-align: right;\n",
       "    }\n",
       "</style>\n",
       "<table border=\"1\" class=\"dataframe\">\n",
       "  <thead>\n",
       "    <tr style=\"text-align: right;\">\n",
       "      <th></th>\n",
       "      <th>ID</th>\n",
       "      <th>Species Name</th>\n",
       "      <th>Common Name</th>\n",
       "      <th>Authors</th>\n",
       "      <th>Year</th>\n",
       "      <th>Genus</th>\n",
       "      <th>Subfamily</th>\n",
       "      <th>Family</th>\n",
       "      <th>Order</th>\n",
       "      <th>Class</th>\n",
       "      <th>...</th>\n",
       "      <th>Fertilization</th>\n",
       "      <th>fisheries</th>\n",
       "      <th>aquarium</th>\n",
       "      <th>gamefish</th>\n",
       "      <th>aquaculture</th>\n",
       "      <th>bait</th>\n",
       "      <th>Image</th>\n",
       "      <th>Img Credits</th>\n",
       "      <th>Reference</th>\n",
       "      <th>Env Section</th>\n",
       "    </tr>\n",
       "  </thead>\n",
       "  <tbody>\n",
       "    <tr>\n",
       "      <th>5689</th>\n",
       "      <td>663</td>\n",
       "      <td>Centroscymnus crepidater</td>\n",
       "      <td>Longnose velvet dogfish</td>\n",
       "      <td>Barbosa du Bocage, de Brito Capello</td>\n",
       "      <td>1864</td>\n",
       "      <td>Centroscymnus</td>\n",
       "      <td>NaN</td>\n",
       "      <td>Somniosidae</td>\n",
       "      <td>Squaliformes</td>\n",
       "      <td>Elasmobranchii</td>\n",
       "      <td>...</td>\n",
       "      <td>internal (oviduct)</td>\n",
       "      <td>minor commercial</td>\n",
       "      <td>NaN</td>\n",
       "      <td>NaN</td>\n",
       "      <td>NaN</td>\n",
       "      <td>NaN</td>\n",
       "      <td>https://www.fishbase.de//images/thumbnails/jpg...</td>\n",
       "      <td>Cambraia Duarte, P.M.N. (c)ImagDOP</td>\n",
       "      <td>Compagno, L.J.V., 1984. FAO Species Catalogue....</td>\n",
       "      <td>Marine;  bathydemersal; depth range 230 - 1500...</td>\n",
       "    </tr>\n",
       "  </tbody>\n",
       "</table>\n",
       "<p>1 rows × 36 columns</p>\n",
       "</div>"
      ],
      "text/plain": [
       "       ID              Species Name              Common Name  \\\n",
       "5689  663  Centroscymnus crepidater  Longnose velvet dogfish   \n",
       "\n",
       "                                  Authors  Year          Genus Subfamily  \\\n",
       "5689  Barbosa du Bocage, de Brito Capello  1864  Centroscymnus       NaN   \n",
       "\n",
       "           Family         Order           Class  ...       Fertilization  \\\n",
       "5689  Somniosidae  Squaliformes  Elasmobranchii  ...  internal (oviduct)   \n",
       "\n",
       "             fisheries aquarium gamefish aquaculture bait  \\\n",
       "5689  minor commercial      NaN      NaN         NaN  NaN   \n",
       "\n",
       "                                                  Image  \\\n",
       "5689  https://www.fishbase.de//images/thumbnails/jpg...   \n",
       "\n",
       "                             Img Credits  \\\n",
       "5689  Cambraia Duarte, P.M.N. (c)ImagDOP   \n",
       "\n",
       "                                              Reference  \\\n",
       "5689  Compagno, L.J.V., 1984. FAO Species Catalogue....   \n",
       "\n",
       "                                            Env Section  \n",
       "5689  Marine;  bathydemersal; depth range 230 - 1500...  \n",
       "\n",
       "[1 rows x 36 columns]"
      ]
     },
     "execution_count": 6,
     "metadata": {},
     "output_type": "execute_result"
    }
   ],
   "source": [
    "# Filling missing value for one species (Family, Order, Class)\n",
    "data.iloc[5689,7:10] = data.iloc[5688,7:10]\n",
    "data.iloc[5689:5690]"
   ]
  },
  {
   "cell_type": "code",
   "execution_count": 7,
   "id": "d2b842ba",
   "metadata": {},
   "outputs": [],
   "source": [
    "#Fixing the species containing 2 orders separated by '/'\n",
    "data['Order'] = data['Order'].apply(lambda x :x.split('/')[0])"
   ]
  },
  {
   "cell_type": "markdown",
   "id": "06620814",
   "metadata": {},
   "source": [
    "### Fixing Habitat"
   ]
  },
  {
   "cell_type": "code",
   "execution_count": 8,
   "id": "dfdbe51e",
   "metadata": {},
   "outputs": [],
   "source": [
    "data['Habitat'] = data['Habitat'].apply(lambda x : str(x).split(',')[0].split('(')[0])\n",
    "data['Habitat'].replace('nan',np.nan,inplace = True)"
   ]
  },
  {
   "cell_type": "code",
   "execution_count": 9,
   "id": "0820b905",
   "metadata": {},
   "outputs": [
    {
     "name": "stderr",
     "output_type": "stream",
     "text": [
      "C:\\Users\\SANYAM\\AppData\\Local\\Temp/ipykernel_9260/465667575.py:2: SettingWithCopyWarning: \n",
      "A value is trying to be set on a copy of a slice from a DataFrame\n",
      "\n",
      "See the caveats in the documentation: https://pandas.pydata.org/pandas-docs/stable/user_guide/indexing.html#returning-a-view-versus-a-copy\n",
      "  data['Environment'][errorHbIdx] = data['Environment'][errorHbIdx] + ', ' + data['Habitat'][errorHbIdx]\n"
     ]
    }
   ],
   "source": [
    "errorHbIdx = data[(data['Habitat']== 'freshwater') | (data['Habitat']=='brackish')].index\n",
    "data['Environment'][errorHbIdx] = data['Environment'][errorHbIdx] + ', ' + data['Habitat'][errorHbIdx]"
   ]
  },
  {
   "cell_type": "code",
   "execution_count": 10,
   "id": "281bb2af",
   "metadata": {},
   "outputs": [
    {
     "name": "stderr",
     "output_type": "stream",
     "text": [
      "C:\\Users\\SANYAM\\AppData\\Local\\Temp/ipykernel_9260/2712926725.py:4: SettingWithCopyWarning: \n",
      "A value is trying to be set on a copy of a slice from a DataFrame\n",
      "\n",
      "See the caveats in the documentation: https://pandas.pydata.org/pandas-docs/stable/user_guide/indexing.html#returning-a-view-versus-a-copy\n",
      "  data['Habitat'][idx] = np.nan\n",
      "C:\\Users\\SANYAM\\AppData\\Local\\Temp/ipykernel_9260/2712926725.py:7: SettingWithCopyWarning: \n",
      "A value is trying to be set on a copy of a slice from a DataFrame\n",
      "\n",
      "See the caveats in the documentation: https://pandas.pydata.org/pandas-docs/stable/user_guide/indexing.html#returning-a-view-versus-a-copy\n",
      "  data['Habitat'][idx] = hb\n"
     ]
    }
   ],
   "source": [
    "habitats = ['benthopelagic', 'bathypelagic', 'pelagic-neritic', 'pelagic-oceanic', 'pelagic', \n",
    "            'bathydemersal', 'reef-associated','demersal']\n",
    "for idx in errorHbIdx:\n",
    "    data['Habitat'][idx] = np.nan\n",
    "    for hb in habitats:\n",
    "        if hb in data['Env Section'][idx]:\n",
    "            data['Habitat'][idx] = hb\n",
    "            break"
   ]
  },
  {
   "cell_type": "code",
   "execution_count": 11,
   "id": "822d9563",
   "metadata": {},
   "outputs": [
    {
     "data": {
      "text/plain": [
       "demersal           12006\n",
       "benthopelagic      10877\n",
       "reef-associated     4938\n",
       "bathydemersal       2277\n",
       "pelagic             1878\n",
       "bathypelagic        1407\n",
       "pelagic-neritic      903\n",
       "pelagic-oceanic      489\n",
       "Name: Habitat, dtype: int64"
      ]
     },
     "execution_count": 11,
     "metadata": {},
     "output_type": "execute_result"
    }
   ],
   "source": [
    "data['Habitat'].value_counts()"
   ]
  },
  {
   "cell_type": "markdown",
   "id": "88ab8c0d",
   "metadata": {},
   "source": [
    "### Fixing Migration"
   ]
  },
  {
   "cell_type": "code",
   "execution_count": 12,
   "id": "6ee09578",
   "metadata": {},
   "outputs": [
    {
     "data": {
      "text/plain": [
       "(12030,\n",
       " non-migratory                     1009\n",
       " brackish                           755\n",
       " demersal                           598\n",
       " oceanodromous                      546\n",
       " non-migratory. Tropical            388\n",
       "                                   ... \n",
       " depth range 18 - 193 m               1\n",
       " depth range 16 - ? m                 1\n",
       " depth range 14 - 16 m                1\n",
       " 26°N -   28°S, 101°E -   123°W       1\n",
       " depth range ? - 96 m                 1\n",
       " Name: Migration, Length: 7851, dtype: int64)"
      ]
     },
     "execution_count": 12,
     "metadata": {},
     "output_type": "execute_result"
    }
   ],
   "source": [
    "data['Migration'].isnull().sum(), data['Migration'].value_counts()"
   ]
  },
  {
   "cell_type": "code",
   "execution_count": 13,
   "id": "24429f7c",
   "metadata": {},
   "outputs": [
    {
     "name": "stderr",
     "output_type": "stream",
     "text": [
      "C:\\Users\\SANYAM\\AppData\\Local\\Temp/ipykernel_9260/3092475139.py:2: SettingWithCopyWarning: \n",
      "A value is trying to be set on a copy of a slice from a DataFrame\n",
      "\n",
      "See the caveats in the documentation: https://pandas.pydata.org/pandas-docs/stable/user_guide/indexing.html#returning-a-view-versus-a-copy\n",
      "  data['Migration'][~data['Migration'].isnull() & (data['Migration'].str.startswith(tuple(prefixes)))] = np.nan\n"
     ]
    }
   ],
   "source": [
    "prefixes = ['depth', 'pH', 'dH', '?','-']\n",
    "data['Migration'][~data['Migration'].isnull() & (data['Migration'].str.startswith(tuple(prefixes)))] = np.nan"
   ]
  },
  {
   "cell_type": "code",
   "execution_count": 14,
   "id": "a9cf5a22",
   "metadata": {},
   "outputs": [
    {
     "name": "stderr",
     "output_type": "stream",
     "text": [
      "C:\\Users\\SANYAM\\AppData\\Local\\Temp/ipykernel_9260/1898018314.py:1: SettingWithCopyWarning: \n",
      "A value is trying to be set on a copy of a slice from a DataFrame\n",
      "\n",
      "See the caveats in the documentation: https://pandas.pydata.org/pandas-docs/stable/user_guide/indexing.html#returning-a-view-versus-a-copy\n",
      "  data['Migration'][~data['Migration'].isnull() & (data['Migration'].str[0].str.isdigit())] = np.nan\n"
     ]
    }
   ],
   "source": [
    "data['Migration'][~data['Migration'].isnull() & (data['Migration'].str[0].str.isdigit())] = np.nan"
   ]
  },
  {
   "cell_type": "code",
   "execution_count": 15,
   "id": "e8caa754",
   "metadata": {},
   "outputs": [],
   "source": [
    "data['Migration'] = data['Migration'].apply(lambda x : str(x).split(',')[0].split('.')[0])\n",
    "data['Migration'].replace('nan',np.nan,inplace=True)"
   ]
  },
  {
   "cell_type": "code",
   "execution_count": 16,
   "id": "3a824802",
   "metadata": {},
   "outputs": [
    {
     "data": {
      "text/plain": [
       "non-migratory       1574\n",
       "demersal            1029\n",
       "brackish             755\n",
       "benthopelagic        574\n",
       "oceanodromous        551\n",
       "reef-associated      359\n",
       "potamodromous        343\n",
       "pelagic-neritic      182\n",
       "pelagic               90\n",
       "amphidromous          84\n",
       "pelagic-oceanic       23\n",
       "bathydemersal         10\n",
       "anadromous             8\n",
       "bathypelagic           4\n",
       "diadromous             1\n",
       "potamodromous?         1\n",
       "oceano-estuarine       1\n",
       "Name: Migration, dtype: int64"
      ]
     },
     "execution_count": 16,
     "metadata": {},
     "output_type": "execute_result"
    }
   ],
   "source": [
    "data['Migration'].value_counts()"
   ]
  },
  {
   "cell_type": "code",
   "execution_count": 17,
   "id": "d675b2f0",
   "metadata": {},
   "outputs": [
    {
     "name": "stderr",
     "output_type": "stream",
     "text": [
      "C:\\Users\\SANYAM\\AppData\\Local\\Temp/ipykernel_9260/2575667500.py:1: SettingWithCopyWarning: \n",
      "A value is trying to be set on a copy of a slice from a DataFrame\n",
      "\n",
      "See the caveats in the documentation: https://pandas.pydata.org/pandas-docs/stable/user_guide/indexing.html#returning-a-view-versus-a-copy\n",
      "  data['Migration'][data['Migration']=='potamodromous?'] = 'potamodromous'\n"
     ]
    }
   ],
   "source": [
    "data['Migration'][data['Migration']=='potamodromous?'] = 'potamodromous'"
   ]
  },
  {
   "cell_type": "code",
   "execution_count": 18,
   "id": "dc62cf7c",
   "metadata": {},
   "outputs": [
    {
     "name": "stderr",
     "output_type": "stream",
     "text": [
      "C:\\Users\\SANYAM\\AppData\\Local\\Temp/ipykernel_9260/4289756979.py:1: SettingWithCopyWarning: \n",
      "A value is trying to be set on a copy of a slice from a DataFrame\n",
      "\n",
      "See the caveats in the documentation: https://pandas.pydata.org/pandas-docs/stable/user_guide/indexing.html#returning-a-view-versus-a-copy\n",
      "  data['Migration'][data['Migration']=='oceano-estuarine']= 'non-migratory'\n"
     ]
    }
   ],
   "source": [
    "data['Migration'][data['Migration']=='oceano-estuarine']= 'non-migratory'"
   ]
  },
  {
   "cell_type": "code",
   "execution_count": 19,
   "id": "b46f6762",
   "metadata": {},
   "outputs": [
    {
     "name": "stderr",
     "output_type": "stream",
     "text": [
      "C:\\Users\\SANYAM\\AppData\\Local\\Temp/ipykernel_9260/3508264423.py:6: SettingWithCopyWarning: \n",
      "A value is trying to be set on a copy of a slice from a DataFrame\n",
      "\n",
      "See the caveats in the documentation: https://pandas.pydata.org/pandas-docs/stable/user_guide/indexing.html#returning-a-view-versus-a-copy\n",
      "  data['Migration'][idx] = np.nan\n",
      "C:\\Users\\SANYAM\\AppData\\Local\\Temp/ipykernel_9260/3508264423.py:9: SettingWithCopyWarning: \n",
      "A value is trying to be set on a copy of a slice from a DataFrame\n",
      "\n",
      "See the caveats in the documentation: https://pandas.pydata.org/pandas-docs/stable/user_guide/indexing.html#returning-a-view-versus-a-copy\n",
      "  data['Migration'][idx] = mig\n"
     ]
    }
   ],
   "source": [
    "migrations = ['anadromous', 'catadromous', 'amphidromous', 'potamodromous', 'limnodromous', 'oceanodromous', 'non-migratory']\n",
    "for idx in data.index:\n",
    "    if data['Migration'][idx] in migrations:\n",
    "        continue\n",
    "    else:\n",
    "        data['Migration'][idx] = np.nan\n",
    "        for mig in migrations:\n",
    "            if data['Env Section'][idx]!='' and mig in data['Env Section'][idx]:\n",
    "                data['Migration'][idx] = mig\n",
    "                break"
   ]
  },
  {
   "cell_type": "code",
   "execution_count": 20,
   "id": "040372c3",
   "metadata": {},
   "outputs": [
    {
     "data": {
      "text/plain": [
       "non-migratory    1998\n",
       "oceanodromous     725\n",
       "potamodromous     576\n",
       "amphidromous      479\n",
       "anadromous        170\n",
       "catadromous        77\n",
       "Name: Migration, dtype: int64"
      ]
     },
     "execution_count": 20,
     "metadata": {},
     "output_type": "execute_result"
    }
   ],
   "source": [
    "data['Migration'].value_counts()"
   ]
  },
  {
   "cell_type": "markdown",
   "id": "7849b989",
   "metadata": {},
   "source": [
    "### Fixing IUCN Status"
   ]
  },
  {
   "cell_type": "code",
   "execution_count": 21,
   "id": "58fd503d",
   "metadata": {},
   "outputs": [
    {
     "data": {
      "text/plain": [
       "Least Concern                                      13580\n",
       "Not Evaluated                                      12789\n",
       "Data deficient                                      4408\n",
       "Vulnerable                                          1388\n",
       "Endangered                                          1076\n",
       "Near Threatened                                      745\n",
       "Critically Endangered                                686\n",
       "Extinct                                               74\n",
       "Extinct in the Wild                                   10\n",
       "Lower Risk: near threatened                            8\n",
       "Lower Risk: least concern                              5\n",
       "Least Concern ; Date assessed: 15 February 2019        1\n",
       "Least Concern ; Date assessed: 04 June 2019            1\n",
       "Endangered                                             1\n",
       "Least Concern ; Date assessed: 01 May 2009             1\n",
       "Least Concern ; Date assessed: 28 December 2019        1\n",
       "Least Concern ; Date assessed: 15 August 2019          1\n",
       "Name: IUCN Status, dtype: int64"
      ]
     },
     "execution_count": 21,
     "metadata": {},
     "output_type": "execute_result"
    }
   ],
   "source": [
    "data['IUCN Status'].value_counts()"
   ]
  },
  {
   "cell_type": "code",
   "execution_count": 22,
   "id": "834d52cf",
   "metadata": {},
   "outputs": [],
   "source": [
    "data['IUCN Status'] = data['IUCN Status'].apply(lambda x : str(x).split(';')[0])"
   ]
  },
  {
   "cell_type": "code",
   "execution_count": 23,
   "id": "6de9f71d",
   "metadata": {},
   "outputs": [],
   "source": [
    "data['IUCN Status'].replace(\"nan\",np.nan,inplace=True)"
   ]
  },
  {
   "cell_type": "code",
   "execution_count": 24,
   "id": "992ddc66",
   "metadata": {},
   "outputs": [
    {
     "data": {
      "text/plain": [
       "Least Concern                   13580\n",
       "Not Evaluated                   12789\n",
       "Data deficient                   4408\n",
       "Vulnerable                       1388\n",
       "Endangered                       1076\n",
       "Near Threatened                   745\n",
       "Critically Endangered             686\n",
       "Extinct                            74\n",
       "Extinct in the Wild                10\n",
       "Lower Risk: near threatened         8\n",
       "Lower Risk: least concern           5\n",
       "Least Concern                       5\n",
       "Endangered                          1\n",
       "Name: IUCN Status, dtype: int64"
      ]
     },
     "execution_count": 24,
     "metadata": {},
     "output_type": "execute_result"
    }
   ],
   "source": [
    "data['IUCN Status'].value_counts()"
   ]
  },
  {
   "cell_type": "markdown",
   "id": "41d117a0",
   "metadata": {},
   "source": [
    "### Fixing Max Weight"
   ]
  },
  {
   "cell_type": "code",
   "execution_count": 25,
   "id": "7115365e",
   "metadata": {},
   "outputs": [],
   "source": [
    "data['Max Weight'] = data['Max Weight'].apply(lambda x : str(x).split('(')[0])\n",
    "data['Max Weight'].replace('nan',np.nan,inplace=True)"
   ]
  },
  {
   "cell_type": "markdown",
   "id": "27bb5291",
   "metadata": {},
   "source": [
    "### Fixing pH and dH ranges"
   ]
  },
  {
   "cell_type": "code",
   "execution_count": 26,
   "id": "9805b77b",
   "metadata": {},
   "outputs": [],
   "source": [
    "data['pH'] = data['pH'].apply(lambda x : str(x).split(',')[0].split('. S')[0])\n",
    "data['pH'] = data['pH'].apply(lambda x : str(x).split(',')[0].split('. T')[0])\n",
    "data['pH'] = data['pH'].apply(lambda x : str(x).split(',')[0].split('. H')[0])\n",
    "data['pH'] = data['pH'].apply(lambda x : str(x).split(',')[0].split(',')[0])"
   ]
  },
  {
   "cell_type": "code",
   "execution_count": 27,
   "id": "d47b23d6",
   "metadata": {},
   "outputs": [],
   "source": [
    "data['dH'] = data['dH'].apply(lambda x : str(x).split(',')[0].split('. T')[0])\n",
    "data['dH'] = data['dH'].apply(lambda x : str(x).split(',')[0].split(',')[0])"
   ]
  },
  {
   "cell_type": "code",
   "execution_count": 28,
   "id": "cb9bf9ba",
   "metadata": {},
   "outputs": [],
   "source": [
    "data['pH'].replace('nan',np.nan, inplace = True)\n",
    "data['dH'].replace('nan',np.nan, inplace = True)"
   ]
  },
  {
   "cell_type": "code",
   "execution_count": 29,
   "id": "4f3c4f6b",
   "metadata": {},
   "outputs": [
    {
     "data": {
      "text/plain": [
       "2 - 25     128\n",
       "? - 15     125\n",
       "? - 20     103\n",
       "5 - 19      88\n",
       "5 - 12      77\n",
       "          ... \n",
       "9 - 12       1\n",
       "8 - 30       1\n",
       "1 - 19       1\n",
       "2 - 30       1\n",
       "10 - 35      1\n",
       "Name: dH, Length: 178, dtype: int64"
      ]
     },
     "execution_count": 29,
     "metadata": {},
     "output_type": "execute_result"
    }
   ],
   "source": [
    "data['dH'].value_counts()"
   ]
  },
  {
   "cell_type": "markdown",
   "id": "cd745185",
   "metadata": {},
   "source": [
    "### Saving the data"
   ]
  },
  {
   "cell_type": "code",
   "execution_count": 30,
   "id": "701ca352",
   "metadata": {},
   "outputs": [],
   "source": [
    "data.to_csv('cleaned_data1.csv', index = False)"
   ]
  },
  {
   "cell_type": "code",
   "execution_count": 31,
   "id": "bdd60e01",
   "metadata": {},
   "outputs": [],
   "source": [
    "data.to_pickle('clean_data1.pkl')"
   ]
  },
  {
   "cell_type": "markdown",
   "id": "95a790e4",
   "metadata": {},
   "source": [
    "### Plotting Non-Null Values"
   ]
  },
  {
   "cell_type": "code",
   "execution_count": 32,
   "id": "23bdd5a8",
   "metadata": {},
   "outputs": [],
   "source": [
    "import seaborn as sns\n",
    "import matplotlib.pyplot as plt"
   ]
  },
  {
   "cell_type": "code",
   "execution_count": 33,
   "id": "6146b509",
   "metadata": {},
   "outputs": [
    {
     "data": {
      "text/plain": [
       "ID                      34777\n",
       "Species Name            34777\n",
       "Common Name             16883\n",
       "Authors                 34777\n",
       "Year                    34777\n",
       "Genus                   34777\n",
       "Subfamily               21136\n",
       "Family                  34777\n",
       "Order                   34777\n",
       "Class                   34777\n",
       "Phylum                  34777\n",
       "Kingdom                 34777\n",
       "Environment             34775\n",
       "Habitat                 34775\n",
       "Migration                4025\n",
       "IUCN Status             34775\n",
       "Threat Level            34543\n",
       "Climate                 30640\n",
       "Area                    34775\n",
       "Max Length              31524\n",
       "Max Weight               2536\n",
       "Max Age                  1374\n",
       "Depth Range             15392\n",
       "pH                       2279\n",
       "dH                       1801\n",
       "Mode of Reproduction    11782\n",
       "Fertilization           11523\n",
       "fisheries                5019\n",
       "aquarium                 2105\n",
       "gamefish                  873\n",
       "aquaculture               322\n",
       "bait                      261\n",
       "Image                   34777\n",
       "Img Credits             20560\n",
       "Reference               34773\n",
       "Env Section             34777\n",
       "dtype: int64"
      ]
     },
     "execution_count": 33,
     "metadata": {},
     "output_type": "execute_result"
    }
   ],
   "source": [
    "dataCount = data.count()\n",
    "dataCount"
   ]
  },
  {
   "cell_type": "code",
   "execution_count": 34,
   "id": "d146a54a",
   "metadata": {},
   "outputs": [
    {
     "data": {
      "image/png": "[encoded data removed]",
      "text/plain": [
       "<Figure size 1152x576 with 1 Axes>"
      ]
     },
     "metadata": {
      "needs_background": "light"
     },
     "output_type": "display_data"
    }
   ],
   "source": [
    "fig = plt.figure()\n",
    "fig.set_figheight(8)\n",
    "fig.set_figwidth(16)\n",
    "sns.set(style=\"whitegrid\", color_codes=True)\n",
    "plots = sns.barplot(x = dataCount.index, y = dataCount.values)\n",
    "plt.xticks(rotation = 75)\n",
    "plt.show()"
   ]
  }
 ],
 "metadata": {
  "kernelspec": {
   "display_name": "Python 3 (ipykernel)",
   "language": "python",
   "name": "python3"
  },
  "language_info": {
   "codemirror_mode": {
    "name": "ipython",
    "version": 3
   },
   "file_extension": ".py",
   "mimetype": "text/x-python",
   "name": "python",
   "nbconvert_exporter": "python",
   "pygments_lexer": "ipython3",
   "version": "3.9.7"
  }
 },
 "nbformat": 4,
 "nbformat_minor": 5
}

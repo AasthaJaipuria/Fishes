{
 "cells": [
  {
   "cell_type": "code",
   "execution_count": 2,
   "id": "8aec8fd6",
   "metadata": {},
   "outputs": [],
   "source": [
    "import pandas as pd\n",
    "import numpy as np"
   ]
  },
  {
   "cell_type": "code",
   "execution_count": 25,
   "id": "422b81e4",
   "metadata": {},
   "outputs": [
    {
     "name": "stderr",
     "output_type": "stream",
     "text": [
      "C:\\Users\\SANYAM\\anaconda3\\lib\\site-packages\\IPython\\core\\interactiveshell.py:3444: DtypeWarning: Columns (4,22) have mixed types.Specify dtype option on import or set low_memory=False.\n",
      "  exec(code_obj, self.user_global_ns, self.user_ns)\n"
     ]
    }
   ],
   "source": [
    "data = pd.read_csv('Final.csv')"
   ]
  },
  {
   "cell_type": "code",
   "execution_count": 104,
   "id": "71afe68a",
   "metadata": {},
   "outputs": [
    {
     "data": {
      "text/plain": [
       "Index(['Unnamed: 0', 'Species Name', 'Common Name', 'Authors', 'Year', 'Genus',\n",
       "       'Subfamily', 'Family', 'Order', 'Class', 'Phylum', 'Kingdom',\n",
       "       'Environment', 'Habitat', 'habitat_defn', 'Migration', 'mig_defn',\n",
       "       'IUCN Status', 'status_defn', 'Threat Level', 'Climate', 'Area',\n",
       "       'Max Length', 'Max Weight', 'Max Age', 'Depth Range', 'pH', 'dH',\n",
       "       'Mode of Reproduction', 'reproduction_defn', 'Fertilization',\n",
       "       'fertilization_defns', 'fisheries', 'aquarium', 'gamefish',\n",
       "       'aquaculture', 'bait', 'Reference'],\n",
       "      dtype='object')"
      ]
     },
     "execution_count": 104,
     "metadata": {},
     "output_type": "execute_result"
    }
   ],
   "source": [
    "data.columns"
   ]
  },
  {
   "cell_type": "code",
   "execution_count": 105,
   "id": "315e9729",
   "metadata": {},
   "outputs": [],
   "source": [
    "hb = pd.read_pickle('Habitat.pkl')"
   ]
  },
  {
   "cell_type": "code",
   "execution_count": 106,
   "id": "b08f82b9",
   "metadata": {
    "scrolled": false
   },
   "outputs": [],
   "source": [
    "data['Habitat']=hb"
   ]
  },
  {
   "cell_type": "code",
   "execution_count": 107,
   "id": "b45fe725",
   "metadata": {},
   "outputs": [],
   "source": [
    "#Kingdom\n",
    "data['Kingdom_hi'] = 'जंतु'"
   ]
  },
  {
   "cell_type": "code",
   "execution_count": 108,
   "id": "e5b680c5",
   "metadata": {},
   "outputs": [],
   "source": [
    "#Phylum \n",
    "data['Phylum_hi'] = 'कॉर्डेटा'"
   ]
  },
  {
   "cell_type": "markdown",
   "id": "82971fc0",
   "metadata": {},
   "source": [
    "### Class"
   ]
  },
  {
   "cell_type": "code",
   "execution_count": 109,
   "id": "ae07ace3",
   "metadata": {},
   "outputs": [],
   "source": [
    "classes = {'Actinopteri':'Actinopterygii', 'Elasmobranchii':'Chondrichthyes', 'Holocephali':'Chondrichthyes',\n",
    "       'Petromyzonti':'Hyperoartia', 'Cladistii':'Actinopterygii', 'Dipneusti':'Sarcopterygii', 'Coelacanthi' :'Sarcopterygii'}\n",
    "data['Class'].replace(classes,inplace=True)"
   ]
  },
  {
   "cell_type": "code",
   "execution_count": 110,
   "id": "103164ab",
   "metadata": {},
   "outputs": [],
   "source": [
    "class_trans = {'Actinopterygii' : 'ऐक्टिनोप्टरिजियाए', 'Chondrichthyes' : 'कॉन्ड्रीइक्थीज़', 'Myxini' : 'मिक्सिनी', \n",
    "               'Hyperoartia' : 'हाइपरओर्शिया', 'Sarcopterygii' : 'सार्कोप्टरिजियाए'}\n",
    "data['Class_hi'] = data['Class'].replace(class_trans)"
   ]
  },
  {
   "cell_type": "code",
   "execution_count": 111,
   "id": "8d9ab0c2",
   "metadata": {},
   "outputs": [
    {
     "data": {
      "text/plain": [
       "ऐक्टिनोप्टरिजियाए    33332\n",
       "कॉन्ड्रीइक्थीज़       1302\n",
       "मिक्सिनी                87\n",
       "हाइपरओर्शिया            48\n",
       "सार्कोप्टरिजियाए         8\n",
       "Name: Class_hi, dtype: int64"
      ]
     },
     "execution_count": 111,
     "metadata": {},
     "output_type": "execute_result"
    }
   ],
   "source": [
    "data['Class_hi'].value_counts()"
   ]
  },
  {
   "cell_type": "markdown",
   "id": "f6543740",
   "metadata": {},
   "source": [
    "### Environment"
   ]
  },
  {
   "cell_type": "code",
   "execution_count": 112,
   "id": "87d4d95a",
   "metadata": {},
   "outputs": [
    {
     "name": "stderr",
     "output_type": "stream",
     "text": [
      "C:\\Users\\SANYAM\\AppData\\Local\\Temp/ipykernel_11240/1397288369.py:1: SettingWithCopyWarning: \n",
      "A value is trying to be set on a copy of a slice from a DataFrame\n",
      "\n",
      "See the caveats in the documentation: https://pandas.pydata.org/pandas-docs/stable/user_guide/indexing.html#returning-a-view-versus-a-copy\n",
      "  data['Environment'][data['Migration']=='catadromous']='Marine, freshwater'\n",
      "C:\\Users\\SANYAM\\AppData\\Local\\Temp/ipykernel_11240/1397288369.py:2: SettingWithCopyWarning: \n",
      "A value is trying to be set on a copy of a slice from a DataFrame\n",
      "\n",
      "See the caveats in the documentation: https://pandas.pydata.org/pandas-docs/stable/user_guide/indexing.html#returning-a-view-versus-a-copy\n",
      "  data['Environment'][data['Migration']=='potamodromous']='Freshwater'\n"
     ]
    }
   ],
   "source": [
    "data['Environment'][data['Migration']=='catadromous']='Marine, freshwater'\n",
    "data['Environment'][data['Migration']=='potamodromous']='Freshwater'"
   ]
  },
  {
   "cell_type": "code",
   "execution_count": 113,
   "id": "b2afe8e8",
   "metadata": {},
   "outputs": [],
   "source": [
    "env = {'Freshwater' : \"[[मीठा_जल|मीठे पानी]]\", 'Marine': '[[समुद्री जल]]', 'Marine, brackish': \"[[समुद्री जल|समुद्री]] और [[नुनखरा जल|नुनखारे पानी]]\", \n",
    "       'Freshwater, brackish': \"[[मीठा_जल|मीठे]] और [[नुनखरा जल|नुनखारे पानी]]\", 'Marine, freshwater' : \"[[समुद्री जल|समुद्री]] और [[मीठा_जल|मीठे पानी]]\", 'Brackish':\"[[नुनखरा जल|नुनखारे पानी]]\"}\n",
    "data['Environment_hi'] = data['Environment'].replace(env)"
   ]
  },
  {
   "cell_type": "code",
   "execution_count": 114,
   "id": "972ff209",
   "metadata": {},
   "outputs": [
    {
     "data": {
      "text/plain": [
       "[[मीठा_जल|मीठे पानी]]                                   15964\n",
       "[[समुद्री जल]]                                          15813\n",
       "[[समुद्री जल|समुद्री]] और [[नुनखरा जल|नुनखारे पानी]]     1436\n",
       "[[समुद्री जल|समुद्री]] और [[मीठा_जल|मीठे पानी]]           753\n",
       "[[मीठा_जल|मीठे]] और [[नुनखरा जल|नुनखारे पानी]]            712\n",
       "[[नुनखरा जल|नुनखारे पानी]]                                 97\n",
       "Name: Environment_hi, dtype: int64"
      ]
     },
     "execution_count": 114,
     "metadata": {},
     "output_type": "execute_result"
    }
   ],
   "source": [
    "data['Environment_hi'].value_counts()"
   ]
  },
  {
   "cell_type": "markdown",
   "id": "9ccc19ed",
   "metadata": {},
   "source": [
    "### Habitat"
   ]
  },
  {
   "cell_type": "code",
   "execution_count": 115,
   "id": "4974752a",
   "metadata": {},
   "outputs": [],
   "source": [
    "habt = {'demersal' : \"डेमर्सल\", 'benthopelagic' : \"बेंटोपेलैजिक\", 'reef-associated' : \"रीफ से जुड़ी\", 'bathydemersal' : \"बाथीडेमर्सल\",\n",
    "        'pelagic' : \"पेलैजिक\", 'bathypelagic' : \"गहरपेलैजिक\", 'pelagic-neritic' : \"पेलैजिक-नेरिटिक\", \n",
    "        'pelagic-oceanic' : \"पेलैजिक-ओशिएनिक\"}\n",
    "data['Habitat_hi'] = data['Habitat'].replace(habt)"
   ]
  },
  {
   "cell_type": "code",
   "execution_count": 116,
   "id": "d8676208",
   "metadata": {},
   "outputs": [
    {
     "data": {
      "text/plain": [
       "डेमर्सल            12006\n",
       "बेंटोपेलैजिक       11570\n",
       "रीफ से जुड़ी         4938\n",
       "बाथीडेमर्सल         2277\n",
       "गहरपेलैजिक          1407\n",
       "पेलैजिक             1185\n",
       "पेलैजिक-नेरिटिक      903\n",
       "पेलैजिक-ओशिएनिक      489\n",
       "Name: Habitat_hi, dtype: int64"
      ]
     },
     "execution_count": 116,
     "metadata": {},
     "output_type": "execute_result"
    }
   ],
   "source": [
    "data['Habitat_hi'].value_counts()"
   ]
  },
  {
   "cell_type": "markdown",
   "id": "9ba5d974",
   "metadata": {},
   "source": [
    "### Habitat Defn"
   ]
  },
  {
   "cell_type": "code",
   "execution_count": 15,
   "id": "c82e96d8",
   "metadata": {},
   "outputs": [],
   "source": [
    "habtDefn ={\n",
    "    'demersal' : \"ये समुद्र या झीलों के तल पर या उसके आस-पास रहती और भोजन करती हैं, जिस पर आमतौर पर मिट्टी, रेत, बजरी या चट्टान होती हैं।\", \n",
    "    'benthopelagic' : \"यह समुद्र तल के साथ-साथ मध्य-पानी में या सतह के पास 0 से 200 मीटर के बीच रहने और खाने के लिए पाई जाती हैं।\",\n",
    "    'reef-associated' : \"ये प्रजातियां प्रवाल भित्तियों के बीच या उनके निकट रहती हैं। ये मछलियाँ भोजन और आवास के लिए प्रवालों पर निर्भर रहती हैं जबकि प्रवाल अपनी प्रजनन सफलता के लिए इन मछलियों द्वारा चरने पर निर्भर हैं।\",\n",
    "    'bathydemersal' : \"ये समुद्र या झीलों के तल पर या उसके आस-पास, 200 मीटर के नीचे रहती और भोजन करती हैं।\",\n",
    "    'pelagic' : \"ये मछलियाँ जल निकायों के मध्य-जल और ऊपरी परतों पर मौजूद होती हैं, न तो नीचे के फ़र्श के बहुत करीब और न ही जलसमूह के तट के समीप।\",\n",
    "    'bathypelagic' : \"ये मछलियाँ गहरे समुद्र में 1000 से 4000 मीटर नीचे रहती और भोजन करती हैं जहाँ सूरज की रोशनी की अनुपस्थिति के कारण अंधेरा और ठंडा वातावरण होता है।\",\n",
    "    'pelagic-neritic' : \"ये मछलियाँ महाद्वीपीय ताक के ऊपर उथला पेलैजिक क्षेत्र में रहती और भोजन करती हैं जहाँ पानी की गहराई 200 मीटर से कम होती है।\", \n",
    "    'pelagic-oceanic' : \"ये मछलियाँ महाद्वीपीय ताक से परे खुला महासागर में रहती और भोजन करती हैं।\"\n",
    "}\n",
    "data['habitat_defn_hi'] = data['Habitat'].replace(habtDefn)"
   ]
  },
  {
   "cell_type": "code",
   "execution_count": 16,
   "id": "10d5c0d1",
   "metadata": {},
   "outputs": [
    {
     "data": {
      "text/plain": [
       "ये समुद्र या झीलों के तल पर या उसके आस-पास रहती और भोजन करती हैं, जिस पर आमतौर पर मिट्टी, रेत, बजरी या चट्टान होती हैं।                                                                               12006\n",
       "यह समुद्र तल के साथ-साथ मध्य-पानी में या सतह के पास 0 से 200 मीटर के बीच रहने और खाने के लिए पाई जाती हैं।                                                                                            11570\n",
       "ये प्रजातियां प्रवाल भित्तियों के बीच या उनके निकट रहती हैं। ये मछलियाँ भोजन और आवास के लिए प्रवालों पर निर्भर रहती हैं जबकि प्रवाल अपनी प्रजनन सफलता के लिए इन मछलियों द्वारा चरने पर निर्भर हैं।     4938\n",
       "ये समुद्र या झीलों के तल पर या उसके आस-पास, 200 मीटर के नीचे रहती और भोजन करती हैं।                                                                                                                    2277\n",
       "ये मछलियाँ गहरे समुद्र में 1000 से 4000 मीटर नीचे रहती और भोजन करती हैं जहाँ सूरज की रोशनी की अनुपस्थिति के कारण अंधेरा और ठंडा वातावरण होता है।                                                       1407\n",
       "ये मछलियाँ जल निकायों के मध्य-जल और ऊपरी परतों पर मौजूद होती हैं, न तो नीचे के फ़र्श के बहुत करीब और न ही जलसमूह के तट के समीप।                                                                        1185\n",
       "ये मछलियाँ महाद्वीपीय ताक के ऊपर उथला पेलैजिक क्षेत्र में रहती और भोजन करती हैं जहाँ पानी की गहराई 200 मीटर से कम होती है।                                                                              903\n",
       "ये मछलियाँ महाद्वीपीय ताक से परे खुला महासागर में रहती और भोजन करती हैं।                                                                                                                                489\n",
       "Name: habitat_defn_hi, dtype: int64"
      ]
     },
     "execution_count": 16,
     "metadata": {},
     "output_type": "execute_result"
    }
   ],
   "source": [
    "data['habitat_defn_hi'].value_counts()"
   ]
  },
  {
   "cell_type": "markdown",
   "id": "a4193f94",
   "metadata": {},
   "source": [
    "### Migration"
   ]
  },
  {
   "cell_type": "code",
   "execution_count": 119,
   "id": "538958ee",
   "metadata": {},
   "outputs": [],
   "source": [
    "migs = {'non-migratory' : 'अप्रवासी', 'oceanodromous' : 'समुद्रगामी', 'potamodromous' : 'सरितगामी',\n",
    "        'amphidromous' : 'उभयगामी ', 'anadromous' : 'समुद्रापगामी', 'catadromous' : 'समुद्राभिगामी'}\n",
    "data['Migration_hi'] = data['Migration'].replace(migs)"
   ]
  },
  {
   "cell_type": "code",
   "execution_count": 120,
   "id": "f79b79c3",
   "metadata": {},
   "outputs": [
    {
     "data": {
      "text/plain": [
       "अप्रवासी         1998\n",
       "समुद्रगामी        725\n",
       "सरितगामी          576\n",
       "उभयगामी           479\n",
       "समुद्रापगामी      170\n",
       "समुद्राभिगामी      77\n",
       "Name: Migration_hi, dtype: int64"
      ]
     },
     "execution_count": 120,
     "metadata": {},
     "output_type": "execute_result"
    }
   ],
   "source": [
    "data['Migration_hi'].value_counts()"
   ]
  },
  {
   "cell_type": "markdown",
   "id": "be1e8da2",
   "metadata": {},
   "source": [
    "### Migration Defn"
   ]
  },
  {
   "cell_type": "code",
   "execution_count": 121,
   "id": "c2aa072a",
   "metadata": {},
   "outputs": [],
   "source": [
    "migDefns = {\n",
    "    'non-migratory' : \"ये निवासी मछलियाँ हैं जो बिना प्रवास किये पूरे वर्ष एक ही स्थान पर रहती हैं।\",\n",
    "    'oceanodromous' : \"ये मछलियाँ महासागरों के अंदर रहती हैं और आमतौर पर अंडे देने और अलग-अलग भोजन क्षेत्रों के बीच प्रवास करती हैं। ये प्रवास चक्रीय होते हैं और इनकी दूरी 100 किलोमीटर से भी अधिक होती हैं।\", \n",
    "    'potamodromous' : \"ये मछलियां पूरी तरह से मीठे पानी में प्रवास करती हैं। वे धारा-प्रतिकूल मीठे पानी के आवासों में पैदा होती हैं, फिर अनुप्रवाह में अल्पायु के रूप में वयस्कों में विकसित होने के लिए पलायन करती हैं और अंडे देने के लिए वापस ऊपर की ओर पलायन करती हैं।\", \n",
    "    'amphidromous' : \"ये मछलियां मीठे पानी से समुद्र की ओर या इसके विपरीत पलायन करती हैं। यह प्रवास प्रजनन के उद्देश्य से नहीं किया जाता।\",\n",
    "    'anadromous' : \"ये मछलियाँ समुद्र में रहती हैं और प्रजनन के लिए मीठे पानी में प्रवास करती हैं। इनके पास नुनखारे पानी और मीठे पानी दोनों में रहने की क्षमता हैं।\", \n",
    "    'catadromous' : \"ये मछलियाँ अपना अधिकांश जीवन मीठे पानी में बिताती हैं और फिर प्रजनन के लिए समुद्र में चली जाती हैं।\"\n",
    "}\n",
    "data['mig_defn_hi'] = data['Migration'].replace(migDefns)"
   ]
  },
  {
   "cell_type": "code",
   "execution_count": 122,
   "id": "1832fba9",
   "metadata": {},
   "outputs": [
    {
     "data": {
      "text/plain": [
       "ये निवासी मछलियाँ हैं जो बिना प्रवास किये पूरे वर्ष एक ही स्थान पर रहती हैं।                                                                                                                                                                           1998\n",
       "ये मछलियाँ महासागरों के अंदर रहती हैं और आमतौर पर अंडे देने और अलग-अलग भोजन क्षेत्रों के बीच प्रवास करती हैं। ये प्रवास चक्रीय होते हैं और इनकी दूरी 100 किलोमीटर से भी अधिक होती हैं।                                                                  725\n",
       "ये मछलियां पूरी तरह से मीठे पानी में प्रवास करती हैं। वे धारा-प्रतिकूल मीठे पानी के आवासों में पैदा होती हैं, फिर अनुप्रवाह में अल्पायु के रूप में वयस्कों में विकसित होने के लिए पलायन करती हैं और अंडे देने के लिए वापस ऊपर की ओर पलायन करती हैं।     576\n",
       "ये मछलियां मीठे पानी से समुद्र की ओर या इसके विपरीत पलायन करती हैं। यह प्रवास प्रजनन के उद्देश्य से नहीं किया जाता।                                                                                                                                     479\n",
       "ये मछलियाँ समुद्र में रहती हैं और प्रजनन के लिए मीठे पानी में प्रवास करती हैं। इनके पास नुनखारे पानी और मीठे पानी दोनों में रहने की क्षमता हैं।                                                                                                         170\n",
       "ये मछलियाँ अपना अधिकांश जीवन मीठे पानी में बिताती हैं और फिर प्रजनन के लिए समुद्र में चली जाती हैं।                                                                                                                                                      77\n",
       "Name: mig_defn_hi, dtype: int64"
      ]
     },
     "execution_count": 122,
     "metadata": {},
     "output_type": "execute_result"
    }
   ],
   "source": [
    "data['mig_defn_hi'].value_counts()"
   ]
  },
  {
   "cell_type": "markdown",
   "id": "474385fb",
   "metadata": {},
   "source": [
    "### IUCN Status"
   ]
  },
  {
   "cell_type": "code",
   "execution_count": 293,
   "id": "0fc6a6b4",
   "metadata": {},
   "outputs": [],
   "source": [
    "iucn = {'Least Concern' : 'खतरे_से_बाहर | संकटमुक्त', 'Not Evaluated' : 'अनाकलित', 'Data deficient' : 'आंकड़ों का अभाव', \n",
    "        'Vulnerable' : 'असुरक्षित_प्रजातियां | असुरक्षित', 'Endangered' : 'विलुप्तप्राय_जाति | संकटग्रस्त', 'Near Threatened' : 'संकटासन्न', \n",
    "        'Critically Endangered' : 'गंभीर_रूप_से_विलुप्तप्राय | घोर-संकटग्रस्त', 'Extinct' : 'विलुप्त', \n",
    "        'Extinct in the Wild' : 'जंगल_से_विलुप्त | वन-विलुप्त'}\n",
    "data['IUCN Status_hi'] = data['IUCN Status'].replace(iucn)"
   ]
  },
  {
   "cell_type": "code",
   "execution_count": 294,
   "id": "c51e4d1a",
   "metadata": {},
   "outputs": [
    {
     "data": {
      "text/plain": [
       "खतरे_से_बाहर | संकटमुक्त                      13590\n",
       "अनाकलित                                       12789\n",
       "आंकड़ों का अभाव                                4408\n",
       "असुरक्षित_प्रजातियां | असुरक्षित               1388\n",
       "विलुप्तप्राय_जाति | संकटग्रस्त                 1077\n",
       "संकटासन्न                                       753\n",
       "गंभीर_रूप_से_विलुप्तप्राय | घोर-संकटग्रस्त      686\n",
       "विलुप्त                                          74\n",
       "जंगल_से_विलुप्त | वन-विलुप्त                     10\n",
       "Name: IUCN Status_hi, dtype: int64"
      ]
     },
     "execution_count": 294,
     "metadata": {},
     "output_type": "execute_result"
    }
   ],
   "source": [
    "data['IUCN Status_hi'].value_counts()"
   ]
  },
  {
   "cell_type": "markdown",
   "id": "b38ddc72",
   "metadata": {},
   "source": [
    "### IUCN Defns"
   ]
  },
  {
   "cell_type": "code",
   "execution_count": 125,
   "id": "cba08519",
   "metadata": {},
   "outputs": [],
   "source": [
    "iucn_defn = {\n",
    "    'Least Concern' : 'ये प्रजातियां सबसे कम जोखिम में हैं और निकट भविष्य में इनकी संकटग्रस्त या विलुप्त होने की संभावना नहीं हैं।', \n",
    "    'Not Evaluated' : 'इन प्रजातियों का अभी तक अंतर्राष्ट्रीय प्रकृति संरक्षण संघ द्वारा मूल्यांकन नहीं किया गया हैं।', \n",
    "    'Data deficient' : 'जाति के बारे में आंकड़ों की कमी से उसकी संरक्षण स्थिति और संकट का अनुमान नहीं लगाया जा सकता।', \n",
    "    'Vulnerable' : 'इन प्रजातियों का अप्राकृतिक (मानव-द्वारा) विलुप्त होने का उच्च जोखिम माना जाता हैं।',\n",
    "    'Endangered' : 'इन प्रजातियों का जंगल से विलुप्त होने का घोर खतरा बना हुआ हैं।', \n",
    "    'Near Threatened' : 'इन प्रजातियों की निकट भविष्य में संकटग्रस्त हो जाने की संभावना हैं।', \n",
    "    'Critically Endangered' : 'इन प्रजातियों का वनों से विलुप्त होने का घोर ख़तरा बना हुआ हैं।', \n",
    "    'Extinct' : 'इन प्रजातियों का कोई भी जीवित सदस्य नहीं बचा हैं।',\n",
    "    'Extinct in the Wild' : 'यह जाति वनों से पूर्णतः ख़त्म हो चुकी है और इसके बचे हुए सदस्य केवल चिड़ियाघरों या अपने मूल निवास स्थान से अलग किसी कृत्रिम निवास स्थान पर ही जीवित हैं।'\n",
    "}\n",
    "data['status_defn_hi'] = data['IUCN Status'].replace(iucn_defn)"
   ]
  },
  {
   "cell_type": "code",
   "execution_count": 126,
   "id": "8ccb72f1",
   "metadata": {},
   "outputs": [
    {
     "data": {
      "text/plain": [
       "ये प्रजातियां सबसे कम जोखिम में हैं और निकट भविष्य में इनकी संकटग्रस्त या विलुप्त होने की संभावना नहीं हैं।                                                 13590\n",
       "इन प्रजातियों का अभी तक अंतर्राष्ट्रीय प्रकृति संरक्षण संघ द्वारा मूल्यांकन नहीं किया गया हैं।                                                              12789\n",
       "जाति के बारे में आंकड़ों की कमी से उसकी संरक्षण स्थिति और संकट का अनुमान नहीं लगाया जा सकता।                                                                 4408\n",
       "इन प्रजातियों का अप्राकृतिक (मानव-द्वारा) विलुप्त होने का उच्च जोखिम माना जाता हैं।                                                                          1388\n",
       "इन प्रजातियों का जंगल से विलुप्त होने का घोर खतरा बना हुआ हैं।                                                                                               1077\n",
       "इन प्रजातियों की निकट भविष्य में संकटग्रस्त हो जाने की संभावना हैं।                                                                                           753\n",
       "इन प्रजातियों का वनों से विलुप्त होने का घोर ख़तरा बना हुआ हैं।                                                                                               686\n",
       "इन प्रजातियों का कोई भी जीवित सदस्य नहीं बचा हैं।                                                                                                              74\n",
       "यह जाति वनों से पूर्णतः ख़त्म हो चुकी है और इसके बचे हुए सदस्य केवल चिड़ियाघरों या अपने मूल निवास स्थान से अलग किसी कृत्रिम निवास स्थान पर ही जीवित हैं।       10\n",
       "Name: status_defn_hi, dtype: int64"
      ]
     },
     "execution_count": 126,
     "metadata": {},
     "output_type": "execute_result"
    }
   ],
   "source": [
    "data['status_defn_hi'].value_counts()"
   ]
  },
  {
   "cell_type": "markdown",
   "id": "6786ec37",
   "metadata": {},
   "source": [
    "### Threat Level"
   ]
  },
  {
   "cell_type": "code",
   "execution_count": 127,
   "id": "fd64d5c7",
   "metadata": {},
   "outputs": [
    {
     "data": {
      "text/plain": [
       "Index(['Harmless', 'Venomous', 'Traumatogenic',\n",
       "       'Reports of ciguatera poisoning', 'Potential pest', 'Poisonous to eat'],\n",
       "      dtype='object')"
      ]
     },
     "execution_count": 127,
     "metadata": {},
     "output_type": "execute_result"
    }
   ],
   "source": [
    "threat = {'Harmless ': 'Harmless', 'Traumatogenic ':\"Traumatogenic\", 'Venomous ':'Venomous',\n",
    "         'Reports of ciguatera poisoning ':'Reports of ciguatera poisoning',\"Poisonous to eat \":'Poisonous to eat',\n",
    "         'Potential pest ' : 'Potential pest'}\n",
    "data['Threat Level'].replace(threat,inplace=True)\n",
    "data['Threat Level'].value_counts().index"
   ]
  },
  {
   "cell_type": "code",
   "execution_count": 129,
   "id": "fc0214c1",
   "metadata": {},
   "outputs": [],
   "source": [
    "threats = {'Harmless' : \"ये [[होमो सेपियन्स|इंसानों]] के लिए अहानिकर पाई गईं हैं।\", \n",
    "           'Venomous' : \"ये एक विषैली मछली है जिसके डंक में [[विष|ज़हर]] पाया जाता है।\", \n",
    "           'Traumatogenic' : \"यह मछली [[होमो सेपियन्स|इंसानों]] को काटने, डंक मारने या पंचर से घायल कर सकती हैं।\",\n",
    "           'Reports of ciguatera poisoning': \"इन मछलियों को सिगुआटॉक्सिक के रूप में सूचित किया जाता हैं अथार्त इनके अंतर्ग्रहण से सिगुआटेरा (एक मांसपेशी रोगी) होने का खतरा होता हैं।\", \n",
    "           'Potential pest' : 'ये संभावित [[पीड़क]] मानी जाती हैं।', \n",
    "           'Poisonous to eat': 'यह मछली खाने में जहरीली होती है क्योंकि [[मानव का पाचक तंत्र]] इनके शरीर में मौजूद [[विष]] को नष्ट नहीं कर पाता।'\n",
    "          }\n",
    "data['Threat Level_hi'] = data['Threat Level'].replace(threats)"
   ]
  },
  {
   "cell_type": "code",
   "execution_count": 130,
   "id": "1d9ceebe",
   "metadata": {},
   "outputs": [
    {
     "data": {
      "text/plain": [
       "ये [[होमो सेपियन्स|इंसानों]] के लिए अहानिकर पाई गईं हैं                                                                                    33573\n",
       "ये एक विषैली मछली है जिसके डंक में [[विष|ज़हर]] पाया जाता है।                                                                                 307\n",
       "यह मछली [[होमो सेपियन्स|इंसानों]] को काटने, डंक मारने या पंचर से घायल कर सकती हैं।                                                           298\n",
       "इन मछलियों को सिगुआटॉक्सिक के रूप में सूचित किया जाता हैं अथार्त इनके अंतर्ग्रहण से सिगुआटेरा (एक मांसपेशी रोगी) होने का खतरा होता हैं।      221\n",
       "ये संभावित [[पीड़क]] मानी जाती हैं।                                                                                                           74\n",
       "यह मछली खाने में जहरीली होती है क्योंकि [[मानव का पाचक तंत्र]] इनके शरीर में मौजूद [[विष]] को नष्ट नहीं कर पाता।                              70\n",
       "Name: Threat Level_hi, dtype: int64"
      ]
     },
     "execution_count": 130,
     "metadata": {},
     "output_type": "execute_result"
    }
   ],
   "source": [
    "data['Threat Level_hi'].value_counts()"
   ]
  },
  {
   "cell_type": "markdown",
   "id": "6d3b0385",
   "metadata": {},
   "source": [
    "### Climate"
   ]
  },
  {
   "cell_type": "code",
   "execution_count": 131,
   "id": "23ad345b",
   "metadata": {},
   "outputs": [],
   "source": [
    "climate = {'Tropical' : \"ऊष्णकटिबन्ध | उष्णकटिबंधीय\", 'Subtropical' : \"उपोष्णकटिबन्ध | उपोष्णकटिबंधीय \", 'Temperate' : \"शीतोष्ण_कटिबन्ध | समशीतोष्ण\", 'Polar' : \"पृथ्वी के ध्रुवीय क्षेत्र | ध्रुवीय\"}\n",
    "data['Climate_hi'] = data['Climate'].replace(climate)"
   ]
  },
  {
   "cell_type": "code",
   "execution_count": 132,
   "id": "3d611ec1",
   "metadata": {},
   "outputs": [
    {
     "data": {
      "text/plain": [
       "ऊष्णकटिबन्ध | उष्णकटिबंधीय             21570\n",
       "उपोष्णकटिबन्ध | उपोष्णकटिबंधीय          5127\n",
       "शीतोष्ण_कटिबन्ध | समशीतोष्ण             3694\n",
       "पृथ्वी के ध्रुवीय क्षेत्र | ध्रुवीय      249\n",
       "Name: Climate_hi, dtype: int64"
      ]
     },
     "execution_count": 132,
     "metadata": {},
     "output_type": "execute_result"
    }
   ],
   "source": [
    "data['Climate_hi'].value_counts()"
   ]
  },
  {
   "cell_type": "markdown",
   "id": "5338cfb2",
   "metadata": {},
   "source": [
    "### Max Weight"
   ]
  },
  {
   "cell_type": "code",
   "execution_count": 133,
   "id": "da95b246",
   "metadata": {},
   "outputs": [],
   "source": [
    "def trans_weight(wt):\n",
    "    if str(wt)=='nan':\n",
    "        return np.nan\n",
    "    if 'kg' in wt[-2:]:\n",
    "        return wt[:-2].strip() + \" किलोग्राम\"\n",
    "    if 'g' in wt[-2:]:\n",
    "        return wt[:-2].strip() + \" ग्राम\"\n",
    "    if 't' in wt[-2:]:\n",
    "        return wt[:-2].strip() + \" टन\""
   ]
  },
  {
   "cell_type": "code",
   "execution_count": 134,
   "id": "35d0e6b9",
   "metadata": {},
   "outputs": [],
   "source": [
    "data['Max Weight_hi'] = data['Max Weight'].apply(trans_weight)"
   ]
  },
  {
   "cell_type": "markdown",
   "id": "2d4f3ff0",
   "metadata": {},
   "source": [
    "### Mode of Reproduction"
   ]
  },
  {
   "cell_type": "code",
   "execution_count": 304,
   "id": "c383d673",
   "metadata": {},
   "outputs": [],
   "source": [
    "repro = {'dioecism' : 'एकलिंगाश्रयी', 'protogyny' : 'स्त्रीपूर्वता', 'protandry' : 'पुंपूर्वता', 'true hermaphroditism' : '[[उभयलिंगी | शुद्ध उभयलिंगिता]]',\n",
    "       'parthenogenesis' : 'अनिषेकजनन'}\n",
    "data['Mode of Reproduction_hi'] = data['Mode of Reproduction'].replace(repro)"
   ]
  },
  {
   "cell_type": "code",
   "execution_count": 305,
   "id": "6819215e",
   "metadata": {},
   "outputs": [
    {
     "data": {
      "text/plain": [
       "एकलिंगाश्रयी                       15206\n",
       "स्त्रीपूर्वता                        374\n",
       "पुंपूर्वता                            70\n",
       "[[उभयलिंगी | शुद्ध उभयलिंगिता]]       69\n",
       "अनिषेकजनन                              2\n",
       "Name: Mode of Reproduction_hi, dtype: int64"
      ]
     },
     "execution_count": 305,
     "metadata": {},
     "output_type": "execute_result"
    }
   ],
   "source": [
    "data['Mode of Reproduction_hi'].value_counts()"
   ]
  },
  {
   "cell_type": "markdown",
   "id": "494d4cfa",
   "metadata": {},
   "source": [
    "### Reproduction Defn"
   ]
  },
  {
   "cell_type": "code",
   "execution_count": 137,
   "id": "baa87fe4",
   "metadata": {},
   "outputs": [
    {
     "data": {
      "text/plain": [
       "Index(['dioecism', 'protogyny', 'protandry', 'true hermaphroditism',\n",
       "       'parthenogenesis'],\n",
       "      dtype='object')"
      ]
     },
     "execution_count": 137,
     "metadata": {},
     "output_type": "execute_result"
    }
   ],
   "source": [
    "data['Mode of Reproduction'].value_counts().index"
   ]
  },
  {
   "cell_type": "code",
   "execution_count": 138,
   "id": "d9f740d9",
   "metadata": {},
   "outputs": [],
   "source": [
    "reproDefn = {'dioecism' : 'इस प्रजाति की मादा मछलियों में अंडाशय विकसित होते हैं और नर मछलियों में वृषण विकसित होते हैं और वे उसी के अनुसार कार्य करते हैं।',\n",
    "             'protogyny' : 'ये मछलियाँ शुरू में मादा के रूप में पैदा होती हैं, फिर परिपक्व मादाओं में विकसित होती हैं और अंत में परिपक्व नर बनने के लिए अपना लिंग बदल लेती हैं।',\n",
    "             'protandry' : 'ये मछलियाँ शुरू में नर के रूप में पैदा होती हैं और फिर बाद में अपना लिंग बदलकर मादा बन जाती हैं।',\n",
    "             'true hermaphroditism' : 'ये मछलियाँ एक ही समय पर स्त्री नथा पुरुष दोनों प्रकार की प्रजननकोशिकाएँ उत्पन्न करती हैं और स्व-निषेचन की संभावना के साथ, शुक्राणु या अंडे छोड़ सकती हैं।',\n",
    "             'parthenogenesis' : 'इन मछलियों में निषेचन के बिना ही अण्डाणु सक्रिय होकर भ्रूणीय विकास द्वारा सन्तान में विकसित हो जाते हैं।'\n",
    "            }\n",
    "data['reproduction_defn_hi'] = data['Mode of Reproduction'].replace(reproDefn)"
   ]
  },
  {
   "cell_type": "code",
   "execution_count": 139,
   "id": "4f091511",
   "metadata": {},
   "outputs": [
    {
     "data": {
      "text/plain": [
       "इस प्रजाति की मादा मछलियों में अंडाशय विकसित होते हैं और नर मछलियों में वृषण विकसित होते हैं और वे उसी के अनुसार कार्य करते हैं।                             15206\n",
       "ये मछलियाँ शुरू में मादा के रूप में पैदा होती हैं, फिर परिपक्व मादाओं में विकसित होती हैं और अंत में परिपक्व नर बनने के लिए अपना लिंग बदल लेती हैं।            374\n",
       "ये मछलियाँ शुरू में नर के रूप में पैदा होती हैं और फिर बाद में अपना लिंग बदलकर मादा बन जाती हैं।                                                                70\n",
       "ये मछलियाँ एक ही समय पर स्त्री नथा पुरुष दोनों प्रकार की प्रजननकोशिकाएँ उत्पन्न करती हैं और स्व-निषेचन की संभावना के साथ, शुक्राणु या अंडे छोड़ सकती हैं।       69\n",
       "इन मछलियों में निषेचन के बिना ही अण्डाणु सक्रिय होकर भ्रूणीय विकास द्वारा सन्तान में विकसित हो जाते हैं।                                                         2\n",
       "Name: reproduction_defn_hi, dtype: int64"
      ]
     },
     "execution_count": 139,
     "metadata": {},
     "output_type": "execute_result"
    }
   ],
   "source": [
    "data['reproduction_defn_hi'].value_counts()"
   ]
  },
  {
   "cell_type": "markdown",
   "id": "07a40ae9",
   "metadata": {},
   "source": [
    "### Fertilization"
   ]
  },
  {
   "cell_type": "code",
   "execution_count": 140,
   "id": "cc406b3d",
   "metadata": {},
   "outputs": [],
   "source": [
    "fert = {'external' : \"में बाह्य\", 'internal (oviduct)' : \"में आंतरिक\", 'in brood pouch or similar structure' : \"के भ्रूण कोष्ठ (ब्रूड पाउच) में\",\n",
    "       'in mouth' : \"के मुँह में\"}\n",
    "data['Fertilization_hi'] = data['Fertilization'].replace(fert)"
   ]
  },
  {
   "cell_type": "code",
   "execution_count": 141,
   "id": "27028189",
   "metadata": {},
   "outputs": [
    {
     "data": {
      "text/plain": [
       "में बाह्य                          13342\n",
       "में आंतरिक                          1979\n",
       "के भ्रूण कोष्ठ (ब्रूड पाउच) में      362\n",
       "के मुँह में                           85\n",
       "Name: Fertilization_hi, dtype: int64"
      ]
     },
     "execution_count": 141,
     "metadata": {},
     "output_type": "execute_result"
    }
   ],
   "source": [
    "data['Fertilization_hi'].value_counts()"
   ]
  },
  {
   "cell_type": "markdown",
   "id": "4e3259ec",
   "metadata": {},
   "source": [
    "### Fertilization Defn"
   ]
  },
  {
   "cell_type": "code",
   "execution_count": 310,
   "id": "75348217",
   "metadata": {},
   "outputs": [],
   "source": [
    "fertDefn = {\n",
    "    'external' : 'मादा और नर दोनों अपने युग्मकों को पानी में छोड़ते हैं, जहां वे निषेचित होते हैं।', \n",
    "    'internal (oviduct)' : 'नर मछली अपने शुक्राणों  को मादा मछली के जननांगों में पहुंचाता है और आंतरिक निषेचन के बाद, मादा नए विकसित भ्रूण को पानी में बहा देती है।', \n",
    "    'in brood pouch or similar structure' : 'इन प्रजातियों में मादाएं अपूर्णकृत अंडों को नर की थैली या पाउच में स्थानांतरित करती हैं और नर मछलियों में निषेचन होता हैं।',\n",
    "    'in mouth' : 'मादाएं अंडे देती हैं और तुरंत उन्हें अपने मुंह में रख लेती हैं। नर फिर उनके मुंह में शुक्राणु छोड़ते हैं और इस तरह अंडों का निषेचन होता है।'\n",
    "    }\n",
    "data['fertilization_defns_hi'] = data['Fertilization'].replace(fertDefn)"
   ]
  },
  {
   "cell_type": "code",
   "execution_count": 311,
   "id": "94067e2e",
   "metadata": {},
   "outputs": [
    {
     "data": {
      "text/plain": [
       "मादा और नर दोनों अपने युग्मकों को पानी में छोड़ते हैं, जहां वे निषेचित होते हैं।                                                               13342\n",
       "नर मछली अपने शुक्राणों  को मादा मछली के जननांगों में पहुंचाता है और आंतरिक निषेचन के बाद, मादा नए विकसित भ्रूण को पानी में बहा देती है।         1979\n",
       "इन प्रजातियों में मादाएं अपूर्णकृत अंडों को नर की थैली या पाउच में स्थानांतरित करती हैं और नर मछलियों में निषेचन होता हैं।                       362\n",
       "मादाएं अंडे देती हैं और तुरंत उन्हें अपने मुंह में रख लेती हैं। नर फिर उनके मुंह में शुक्राणु छोड़ते हैं और इस तरह अंडों का निषेचन होता है।       85\n",
       "Name: fertilization_defns_hi, dtype: int64"
      ]
     },
     "execution_count": 311,
     "metadata": {},
     "output_type": "execute_result"
    }
   ],
   "source": [
    "data['fertilization_defns_hi'].value_counts()"
   ]
  },
  {
   "cell_type": "markdown",
   "id": "2bfabe52",
   "metadata": {},
   "source": [
    "### Fisheries"
   ]
  },
  {
   "cell_type": "code",
   "execution_count": 144,
   "id": "d7d4ddbb",
   "metadata": {},
   "outputs": [],
   "source": [
    "fisheries = {\n",
    "    'of no interest' : '[[मत्स्योद्योग]] में इन प्रजातियों का कोई खास महत्व नहीं माना हैं। ', \n",
    "    'minor commercial' : 'इन प्रजातियों को [[मत्स्योद्योग]] में मामूली व्यावसायिक महत्व का माना जाता हैं। ', \n",
    "    'commercial' : 'इन प्रजातियों को [[मत्स्योद्योग]] में व्यावसायिक महत्व का माना जाता हैं।',\n",
    "    'subsistence fisheries' : 'इन प्रजातियों का मुख्य रूप से लघु स्तरीय [[मत्स्यपालन]] के लिए उपयोग किया जाता हैं। ', \n",
    "    'highly commercial' : 'इन प्रजातियों को [[मत्स्योद्योग]] में अत्यधिक व्यावसायिक माना जाता है।', \n",
    "    'of potential interest' : 'ये प्रजातियां [[मत्स्योद्योग]] में संभावित रूप से व्यावसायिक हैं।'\n",
    "}\n",
    "data['fisheries_hi'] = data['fisheries'].replace(fisheries)"
   ]
  },
  {
   "cell_type": "code",
   "execution_count": 145,
   "id": "11a1ac6f",
   "metadata": {},
   "outputs": [
    {
     "data": {
      "text/plain": [
       "[[मत्स्योद्योग]] में इन प्रजातियों का कोई खास महत्व नहीं माना हैं।                      1517\n",
       "इन प्रजातियों को [[मत्स्योद्योग]] में मामूली व्यावसायिक महत्व का माना जाता हैं।         1423\n",
       "इन प्रजातियों को [[मत्स्योद्योग]] में व्यावसायिक महत्व का माना जाता हैं।                1407\n",
       "इन प्रजातियों का मुख्य रूप से लघु स्तरीय [[मत्स्यपालन]] के लिए उपयोग किया जाता हैं।      405\n",
       "इन प्रजातियों को [[मत्स्योद्योग]] में अत्यधिक व्यावसायिक माना जाता है।                   211\n",
       "ये प्रजातियां [[मत्स्योद्योग]] में संभावित रूप से व्यावसायिक हैं।                         56\n",
       "Name: fisheries_hi, dtype: int64"
      ]
     },
     "execution_count": 145,
     "metadata": {},
     "output_type": "execute_result"
    }
   ],
   "source": [
    "data['fisheries_hi'].value_counts()"
   ]
  },
  {
   "cell_type": "markdown",
   "id": "77ca8c57",
   "metadata": {},
   "source": [
    "### Aquarium "
   ]
  },
  {
   "cell_type": "code",
   "execution_count": 146,
   "id": "c70d1033",
   "metadata": {},
   "outputs": [],
   "source": [
    "aqua = {\n",
    "    'commercial' : \"इन मछलियों का दुनिया भर के [[जलजीवशाला]] व्यापार उद्योग में व्यावसायिक महत्व हैं।\", \n",
    "    'public aquariums' : \"ये घरेलू [[जलजीवशाला]] में रखने के लिए बहुत लोकप्रिय मछली मानी जाती हैं।\", \n",
    "    'potential' : \"ये मछलियाँ छोटी होती हैं, इन्हें घरेलू [[जलजीवशाला]] में रखना आसान होता हैं और रंग, आकार और व्यवहार में उल्लेखनीय होती हैं।\", \n",
    "    'highly commercial' : \"इन मछलियों का दुनिया भर के [[जलजीवशाला]] व्यापार उद्योग में अत्यधिक व्यावसायिक महत्व हैं।\",\n",
    "    'show aquarium' : \"इन मछलियों को सार्वजनिक [[जलजीवशाला]] में दिखाया जाता हैं क्योंकि ये आम तौर पर बहुत बड़ी होती हैं या इन्हें घरेलू जलजीवशाला में रखना बहुत मुश्किल होता हैं। \"\n",
    "}\n",
    "data['aquarium_hi'] = data['aquarium'].replace(aqua)"
   ]
  },
  {
   "cell_type": "code",
   "execution_count": 147,
   "id": "df248e07",
   "metadata": {},
   "outputs": [
    {
     "data": {
      "text/plain": [
       "इन मछलियों का दुनिया भर के [[जलजीवशाला]] व्यापार उद्योग में व्यावसायिक महत्व हैं।                                                                               1748\n",
       "ये घरेलू [[जलजीवशाला]] में रखने के लिए बहुत लोकप्रिय मछली मानी जाती हैं।                                                                                         276\n",
       "ये मछलियाँ छोटी होती हैं, इन्हें घरेलू [[जलजीवशाला]] में रखना आसान होता हैं और रंग, आकार और व्यवहार में उल्लेखनीय होती हैं।                                       52\n",
       "इन मछलियों का दुनिया भर के [[जलजीवशाला]] व्यापार उद्योग में अत्यधिक व्यावसायिक महत्व हैं।                                                                         28\n",
       "इन मछलियों को सार्वजनिक [[जलजीवशाला]] में दिखाया जाता हैं क्योंकि ये आम तौर पर बहुत बड़ी होती हैं या इन्हें घरेलू जलजीवशाला में रखना बहुत मुश्किल होता हैं।        1\n",
       "Name: aquarium_hi, dtype: int64"
      ]
     },
     "execution_count": 147,
     "metadata": {},
     "output_type": "execute_result"
    }
   ],
   "source": [
    "data['aquarium_hi'].value_counts()"
   ]
  },
  {
   "cell_type": "markdown",
   "id": "5aa2d2f3",
   "metadata": {},
   "source": [
    "### Gamefish"
   ]
  },
  {
   "cell_type": "code",
   "execution_count": 148,
   "id": "b17a3303",
   "metadata": {},
   "outputs": [],
   "source": [
    "data['gamefish_hi'] = data['gamefish'].replace({'yes':'यह प्रजाति [[इंटरनेशनल गेम फिश एसोसिएशन]] (IGFA) द्वारा प्रतिवर्ष प्रकाशित होने वाली वर्ल्ड रिकॉर्ड गेम फ़िशेंस की सूची में भी शामिल है।'})"
   ]
  },
  {
   "cell_type": "code",
   "execution_count": 149,
   "id": "80f17c14",
   "metadata": {},
   "outputs": [
    {
     "data": {
      "text/plain": [
       "यह प्रजाति [[इंटरनेशनल गेम फिश एसोसिएशन]] (IGFA) द्वारा प्रतिवर्ष प्रकाशित होने वाली वर्ल्ड रिकॉर्ड गेम फ़िशेंस की सूची में भी शामिल है।    873\n",
       "Name: gamefish_hi, dtype: int64"
      ]
     },
     "execution_count": 149,
     "metadata": {},
     "output_type": "execute_result"
    }
   ],
   "source": [
    "data['gamefish_hi'].value_counts()"
   ]
  },
  {
   "cell_type": "markdown",
   "id": "3a756564",
   "metadata": {},
   "source": [
    "### Bait"
   ]
  },
  {
   "cell_type": "code",
   "execution_count": 150,
   "id": "6ac81c7d",
   "metadata": {},
   "outputs": [],
   "source": [
    "data['bait_hi'] = data['bait'].replace({\n",
    "    'usually':'आमतौर पर अन्य समुद्री प्रजातियों के लिए चारे के रूप में प्रयोग किया जाता है।',\n",
    "    'occasionally':'कभी-कभी अन्य समुद्री प्रजातियों के लिए चारे के रूप में प्रयोग किया जाता है।'\n",
    "})"
   ]
  },
  {
   "cell_type": "code",
   "execution_count": 151,
   "id": "95dc00a9",
   "metadata": {},
   "outputs": [
    {
     "data": {
      "text/plain": [
       "आमतौर पर अन्य समुद्री प्रजातियों के लिए चारे के रूप में प्रयोग किया जाता है।    182\n",
       "कभी-कभी अन्य समुद्री प्रजातियों के लिए चारे के रूप में प्रयोग किया जाता है।      79\n",
       "Name: bait_hi, dtype: int64"
      ]
     },
     "execution_count": 151,
     "metadata": {},
     "output_type": "execute_result"
    }
   ],
   "source": [
    "data['bait_hi'].value_counts()"
   ]
  },
  {
   "cell_type": "markdown",
   "id": "be42946a",
   "metadata": {},
   "source": [
    "### Merging"
   ]
  },
  {
   "cell_type": "code",
   "execution_count": 175,
   "id": "0658db1a",
   "metadata": {},
   "outputs": [],
   "source": [
    "dh = pd.read_pickle('dh.pkl')\n",
    "data['dH'] = dh"
   ]
  },
  {
   "cell_type": "code",
   "execution_count": 176,
   "id": "2bac57f5",
   "metadata": {},
   "outputs": [],
   "source": [
    "ph = pd.read_pickle('ph.pkl')\n",
    "data['pH'] = ph"
   ]
  },
  {
   "cell_type": "code",
   "execution_count": 177,
   "id": "28b0dbee",
   "metadata": {},
   "outputs": [],
   "source": [
    "dr = pd.read_pickle('depth.pkl')\n",
    "data['Depth Range'] = dr"
   ]
  },
  {
   "cell_type": "code",
   "execution_count": 156,
   "id": "4c2cc7e2",
   "metadata": {},
   "outputs": [],
   "source": [
    "data.rename(columns={'Unnamed: 0':'ID','Species Name':'Binomial Name'},inplace=True)"
   ]
  },
  {
   "cell_type": "code",
   "execution_count": 275,
   "id": "39ff6fe3",
   "metadata": {},
   "outputs": [
    {
     "data": {
      "text/plain": [
       "Index(['ID', 'Binomial Name', 'Binomial Name_hi', 'Species', 'Species_hi',\n",
       "       'Common Name', 'Common Name_hi', 'Authors', 'Authors_hi', 'Year',\n",
       "       'Genus', 'Genus_hi', 'Subfamily', 'Subfamily_hi', 'Family', 'Family_hi',\n",
       "       'Order', 'Order_hi', 'Class', 'Class_hi', 'Phylum', 'Phylum_hi',\n",
       "       'Kingdom', 'Kingdom_hi', 'Environment', 'Environment_hi', 'Habitat',\n",
       "       'Habitat_hi', 'habitat_defn', 'habitat_defn_hi', 'Migration',\n",
       "       'Migration_hi', 'mig_defn', 'mig_defn_hi', 'IUCN Status',\n",
       "       'IUCN Status_hi', 'status_defn', 'status_defn_hi', 'Threat Level',\n",
       "       'Threat Level_hi', 'Climate', 'Climate_hi', 'Area', 'Area_hi',\n",
       "       'Max Length', 'Max Weight', 'Max Weight_hi', 'Max Age', 'Depth Range',\n",
       "       'pH', 'dH', 'Mode of Reproduction', 'Mode of Reproduction_hi',\n",
       "       'reproduction_defn', 'reproduction_defn_hi', 'Fertilization',\n",
       "       'Fertilization_hi', 'fertilization_defns', 'fertilization_defns_hi',\n",
       "       'fisheries', 'fisheries_hi', 'aquarium', 'aquarium_hi', 'gamefish',\n",
       "       'gamefish_hi', 'aquaculture', 'bait', 'bait_hi', 'Reference'],\n",
       "      dtype='object')"
      ]
     },
     "execution_count": 275,
     "metadata": {},
     "output_type": "execute_result"
    }
   ],
   "source": [
    "data.columns"
   ]
  },
  {
   "cell_type": "code",
   "execution_count": 158,
   "id": "1da7c847",
   "metadata": {},
   "outputs": [],
   "source": [
    "data['Species'] = data['Binomial Name'].apply(lambda x : x.split(' ')[1])"
   ]
  },
  {
   "cell_type": "code",
   "execution_count": 186,
   "id": "d7a16afd",
   "metadata": {},
   "outputs": [],
   "source": [
    "sps = pd.read_excel('Translations\\Species_hi.xlsx')\n",
    "data = pd.merge(data,sps,'left','Species')"
   ]
  },
  {
   "cell_type": "code",
   "execution_count": 191,
   "id": "bfd11ba7",
   "metadata": {},
   "outputs": [],
   "source": [
    "gns = pd.read_excel('Translations\\Genus_hi.xlsx')\n",
    "data = pd.merge(data,gns,'left','Genus')"
   ]
  },
  {
   "cell_type": "code",
   "execution_count": 195,
   "id": "91102685",
   "metadata": {},
   "outputs": [],
   "source": [
    "data['Binomial Name_hi'] = data['Genus_hi']+' '+data['Species_hi']"
   ]
  },
  {
   "cell_type": "code",
   "execution_count": 277,
   "id": "adf5ee54",
   "metadata": {},
   "outputs": [],
   "source": [
    "cn = pd.read_excel('Translations\\Common Name_hi.xlsx')\n",
    "data = pd.merge(data,cn,'left','Common Name')"
   ]
  },
  {
   "cell_type": "code",
   "execution_count": 201,
   "id": "0cc3b81b",
   "metadata": {},
   "outputs": [],
   "source": [
    "auth = pd.read_excel('Translations\\Authors_hi.xlsx')\n",
    "data = pd.merge(data,auth,'left','Authors')"
   ]
  },
  {
   "cell_type": "code",
   "execution_count": 204,
   "id": "91e5c051",
   "metadata": {},
   "outputs": [],
   "source": [
    "sb = pd.read_excel('Translations\\Subfamily_hi.xlsx')\n",
    "data = pd.merge(data,sb,'left','Subfamily')"
   ]
  },
  {
   "cell_type": "code",
   "execution_count": 213,
   "id": "7588e162",
   "metadata": {},
   "outputs": [
    {
     "name": "stderr",
     "output_type": "stream",
     "text": [
      "C:\\Users\\SANYAM\\AppData\\Local\\Temp/ipykernel_11240/2377429476.py:1: SettingWithCopyWarning: \n",
      "A value is trying to be set on a copy of a slice from a DataFrame\n",
      "\n",
      "See the caveats in the documentation: https://pandas.pydata.org/pandas-docs/stable/user_guide/indexing.html#returning-a-view-versus-a-copy\n",
      "  data['Subfamily'][data['Subfamily'].isna()!=data['Subfamily_hi'].isna()]=np.nan\n"
     ]
    }
   ],
   "source": [
    "data['Subfamily'][data['Subfamily'].isna()!=data['Subfamily_hi'].isna()]=np.nan"
   ]
  },
  {
   "cell_type": "code",
   "execution_count": 216,
   "id": "7c02ce07",
   "metadata": {},
   "outputs": [],
   "source": [
    "fam = pd.read_excel('Translations\\Family_hi.xlsx')\n",
    "data = pd.merge(data,fam,'left','Family')"
   ]
  },
  {
   "cell_type": "code",
   "execution_count": 219,
   "id": "85317889",
   "metadata": {},
   "outputs": [],
   "source": [
    "ordr = pd.read_excel('Translations\\Order_hi.xlsx')\n",
    "data = pd.merge(data,ordr,'left','Order') "
   ]
  },
  {
   "cell_type": "code",
   "execution_count": 33,
   "id": "affe76de",
   "metadata": {},
   "outputs": [],
   "source": [
    "ar = pd.read_excel('Translations\\Area_hi.xlsx')\n",
    "data = pd.merge(data,ar,'left','Area')"
   ]
  },
  {
   "cell_type": "code",
   "execution_count": 43,
   "id": "bc181490",
   "metadata": {},
   "outputs": [],
   "source": [
    "cols = ['ID','Binomial Name', 'Binomial Name_hi', 'Species', 'Species_hi', 'Common Name', 'Common Name_hi', 'Authors', 'Authors_hi',\n",
    "        'Year','Genus', 'Genus_hi', 'Subfamily', 'Subfamily_hi', 'Family', 'Family_hi', 'Order', 'Order_hi', 'Class', 'Class_hi',\n",
    "        'Phylum', 'Phylum_hi', 'Kingdom', 'Kingdom_hi', 'Environment', 'Environment_hi', 'Habitat', 'Habitat_hi',\n",
    "        'habitat_defn', 'habitat_defn_hi', 'Migration', 'Migration_hi', 'mig_defn', 'mig_defn_hi',\n",
    "        'IUCN Status', 'IUCN Status_hi', 'status_defn', 'status_defn_hi', 'Threat Level', 'Threat Level_hi',\n",
    "        'Climate', 'Climate_hi', 'Area', 'Area_hi', 'Max Length', 'Max Weight', 'Max Weight_hi', 'Max Age', 'Depth Range',\n",
    "        'pH', 'dH', 'Mode of Reproduction', 'Mode of Reproduction_hi', 'reproduction_defn', 'reproduction_defn_hi',\n",
    "        'Fertilization', 'Fertilization_hi', 'fertilization_defns', 'fertilization_defns_hi', 'fisheries', 'fisheries_hi',\n",
    "        'aquarium', 'aquarium_hi', 'gamefish', 'gamefish_hi', 'bait', 'bait_hi', 'Reference']"
   ]
  },
  {
   "cell_type": "code",
   "execution_count": 44,
   "id": "cbe66722",
   "metadata": {},
   "outputs": [],
   "source": [
    "data = data.reindex(columns=cols)"
   ]
  },
  {
   "cell_type": "code",
   "execution_count": 333,
   "id": "7abba857",
   "metadata": {},
   "outputs": [
    {
     "data": {
      "text/plain": [
       "'फ्लेम हमप्बऐक स्कॉर्पिअनफ़िश'"
      ]
     },
     "execution_count": 333,
     "metadata": {},
     "output_type": "execute_result"
    }
   ],
   "source": [
    "data['Common Name_hi'][16221]='फ्लेम हमप्बऐक स्कॉर्पिअनफ़िश'"
   ]
  },
  {
   "cell_type": "code",
   "execution_count": 334,
   "id": "027ac702",
   "metadata": {},
   "outputs": [],
   "source": [
    "data.to_pickle('trans_final.pkl')"
   ]
  },
  {
   "cell_type": "code",
   "execution_count": 336,
   "id": "4be93bc1",
   "metadata": {},
   "outputs": [],
   "source": [
    "data.to_excel('trans_final.xlsx',index=False)"
   ]
  }
 ],
 "metadata": {
  "kernelspec": {
   "display_name": "Python 3 (ipykernel)",
   "language": "python",
   "name": "python3"
  },
  "language_info": {
   "codemirror_mode": {
    "name": "ipython",
    "version": 3
   },
   "file_extension": ".py",
   "mimetype": "text/x-python",
   "name": "python",
   "nbconvert_exporter": "python",
   "pygments_lexer": "ipython3",
   "version": "3.9.7"
  }
 },
 "nbformat": 4,
 "nbformat_minor": 5
}
